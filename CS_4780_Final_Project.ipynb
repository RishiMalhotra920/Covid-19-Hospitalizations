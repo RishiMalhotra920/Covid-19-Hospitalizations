{
  "nbformat": 4,
  "nbformat_minor": 0,
  "metadata": {
    "kernelspec": {
      "display_name": "Python 3",
      "language": "python",
      "name": "python3"
    },
    "language_info": {
      "codemirror_mode": {
        "name": "ipython",
        "version": 3
      },
      "file_extension": ".py",
      "mimetype": "text/x-python",
      "name": "python",
      "nbconvert_exporter": "python",
      "pygments_lexer": "ipython3",
      "version": "3.8.3"
    },
    "colab": {
      "name": "CS 4780 Final Project.ipynb",
      "provenance": [],
      "collapsed_sections": []
    },
    "accelerator": "GPU",
    "widgets": {
      "application/vnd.jupyter.widget-state+json": {
        "a9862337d88f408ca9eda3c02bf3a0be": {
          "model_module": "@jupyter-widgets/controls",
          "model_name": "HBoxModel",
          "state": {
            "_view_name": "HBoxView",
            "_dom_classes": [],
            "_model_name": "HBoxModel",
            "_view_module": "@jupyter-widgets/controls",
            "_model_module_version": "1.5.0",
            "_view_count": null,
            "_view_module_version": "1.5.0",
            "box_style": "",
            "layout": "IPY_MODEL_8713ca4c125d406bb22f7216085e7d31",
            "_model_module": "@jupyter-widgets/controls",
            "children": [
              "IPY_MODEL_c0dd8024f4f84a4ea7ccd85c496415d6",
              "IPY_MODEL_4e98d1e5ca0a4230b2cabc142df29df7"
            ]
          }
        },
        "8713ca4c125d406bb22f7216085e7d31": {
          "model_module": "@jupyter-widgets/base",
          "model_name": "LayoutModel",
          "state": {
            "_view_name": "LayoutView",
            "grid_template_rows": null,
            "right": null,
            "justify_content": null,
            "_view_module": "@jupyter-widgets/base",
            "overflow": null,
            "_model_module_version": "1.2.0",
            "_view_count": null,
            "flex_flow": null,
            "width": null,
            "min_width": null,
            "border": null,
            "align_items": null,
            "bottom": null,
            "_model_module": "@jupyter-widgets/base",
            "top": null,
            "grid_column": null,
            "overflow_y": null,
            "overflow_x": null,
            "grid_auto_flow": null,
            "grid_area": null,
            "grid_template_columns": null,
            "flex": null,
            "_model_name": "LayoutModel",
            "justify_items": null,
            "grid_row": null,
            "max_height": null,
            "align_content": null,
            "visibility": null,
            "align_self": null,
            "height": null,
            "min_height": null,
            "padding": null,
            "grid_auto_rows": null,
            "grid_gap": null,
            "max_width": null,
            "order": null,
            "_view_module_version": "1.2.0",
            "grid_template_areas": null,
            "object_position": null,
            "object_fit": null,
            "grid_auto_columns": null,
            "margin": null,
            "display": null,
            "left": null
          }
        },
        "c0dd8024f4f84a4ea7ccd85c496415d6": {
          "model_module": "@jupyter-widgets/controls",
          "model_name": "FloatProgressModel",
          "state": {
            "_view_name": "ProgressView",
            "style": "IPY_MODEL_ec0a638ef4354ae6847d8254f05991eb",
            "_dom_classes": [],
            "description": "100%",
            "_model_name": "FloatProgressModel",
            "bar_style": "success",
            "max": 400,
            "_view_module": "@jupyter-widgets/controls",
            "_model_module_version": "1.5.0",
            "value": 400,
            "_view_count": null,
            "_view_module_version": "1.5.0",
            "orientation": "horizontal",
            "min": 0,
            "description_tooltip": null,
            "_model_module": "@jupyter-widgets/controls",
            "layout": "IPY_MODEL_020ac462ce1145e29083a5aa9e83ee37"
          }
        },
        "4e98d1e5ca0a4230b2cabc142df29df7": {
          "model_module": "@jupyter-widgets/controls",
          "model_name": "HTMLModel",
          "state": {
            "_view_name": "HTMLView",
            "style": "IPY_MODEL_063050bef36c430892e64ebc64694a8d",
            "_dom_classes": [],
            "description": "",
            "_model_name": "HTMLModel",
            "placeholder": "​",
            "_view_module": "@jupyter-widgets/controls",
            "_model_module_version": "1.5.0",
            "value": " 400/400 [08:17&lt;00:00,  1.24s/it]",
            "_view_count": null,
            "_view_module_version": "1.5.0",
            "description_tooltip": null,
            "_model_module": "@jupyter-widgets/controls",
            "layout": "IPY_MODEL_ca8eacda76734b929840c331a1cbb2b7"
          }
        },
        "ec0a638ef4354ae6847d8254f05991eb": {
          "model_module": "@jupyter-widgets/controls",
          "model_name": "ProgressStyleModel",
          "state": {
            "_view_name": "StyleView",
            "_model_name": "ProgressStyleModel",
            "description_width": "initial",
            "_view_module": "@jupyter-widgets/base",
            "_model_module_version": "1.5.0",
            "_view_count": null,
            "_view_module_version": "1.2.0",
            "bar_color": null,
            "_model_module": "@jupyter-widgets/controls"
          }
        },
        "020ac462ce1145e29083a5aa9e83ee37": {
          "model_module": "@jupyter-widgets/base",
          "model_name": "LayoutModel",
          "state": {
            "_view_name": "LayoutView",
            "grid_template_rows": null,
            "right": null,
            "justify_content": null,
            "_view_module": "@jupyter-widgets/base",
            "overflow": null,
            "_model_module_version": "1.2.0",
            "_view_count": null,
            "flex_flow": null,
            "width": null,
            "min_width": null,
            "border": null,
            "align_items": null,
            "bottom": null,
            "_model_module": "@jupyter-widgets/base",
            "top": null,
            "grid_column": null,
            "overflow_y": null,
            "overflow_x": null,
            "grid_auto_flow": null,
            "grid_area": null,
            "grid_template_columns": null,
            "flex": null,
            "_model_name": "LayoutModel",
            "justify_items": null,
            "grid_row": null,
            "max_height": null,
            "align_content": null,
            "visibility": null,
            "align_self": null,
            "height": null,
            "min_height": null,
            "padding": null,
            "grid_auto_rows": null,
            "grid_gap": null,
            "max_width": null,
            "order": null,
            "_view_module_version": "1.2.0",
            "grid_template_areas": null,
            "object_position": null,
            "object_fit": null,
            "grid_auto_columns": null,
            "margin": null,
            "display": null,
            "left": null
          }
        },
        "063050bef36c430892e64ebc64694a8d": {
          "model_module": "@jupyter-widgets/controls",
          "model_name": "DescriptionStyleModel",
          "state": {
            "_view_name": "StyleView",
            "_model_name": "DescriptionStyleModel",
            "description_width": "",
            "_view_module": "@jupyter-widgets/base",
            "_model_module_version": "1.5.0",
            "_view_count": null,
            "_view_module_version": "1.2.0",
            "_model_module": "@jupyter-widgets/controls"
          }
        },
        "ca8eacda76734b929840c331a1cbb2b7": {
          "model_module": "@jupyter-widgets/base",
          "model_name": "LayoutModel",
          "state": {
            "_view_name": "LayoutView",
            "grid_template_rows": null,
            "right": null,
            "justify_content": null,
            "_view_module": "@jupyter-widgets/base",
            "overflow": null,
            "_model_module_version": "1.2.0",
            "_view_count": null,
            "flex_flow": null,
            "width": null,
            "min_width": null,
            "border": null,
            "align_items": null,
            "bottom": null,
            "_model_module": "@jupyter-widgets/base",
            "top": null,
            "grid_column": null,
            "overflow_y": null,
            "overflow_x": null,
            "grid_auto_flow": null,
            "grid_area": null,
            "grid_template_columns": null,
            "flex": null,
            "_model_name": "LayoutModel",
            "justify_items": null,
            "grid_row": null,
            "max_height": null,
            "align_content": null,
            "visibility": null,
            "align_self": null,
            "height": null,
            "min_height": null,
            "padding": null,
            "grid_auto_rows": null,
            "grid_gap": null,
            "max_width": null,
            "order": null,
            "_view_module_version": "1.2.0",
            "grid_template_areas": null,
            "object_position": null,
            "object_fit": null,
            "grid_auto_columns": null,
            "margin": null,
            "display": null,
            "left": null
          }
        },
        "d9547170f49848318692b1ab7677e6e7": {
          "model_module": "@jupyter-widgets/controls",
          "model_name": "HBoxModel",
          "state": {
            "_view_name": "HBoxView",
            "_dom_classes": [],
            "_model_name": "HBoxModel",
            "_view_module": "@jupyter-widgets/controls",
            "_model_module_version": "1.5.0",
            "_view_count": null,
            "_view_module_version": "1.5.0",
            "box_style": "",
            "layout": "IPY_MODEL_9d643d0e6d1f4b73878adc3a8c0f1dbf",
            "_model_module": "@jupyter-widgets/controls",
            "children": [
              "IPY_MODEL_769e073d45bd4049bc0954f40f957dd0",
              "IPY_MODEL_9e440386157f4d8aa34b2a3d38d1479f"
            ]
          }
        },
        "9d643d0e6d1f4b73878adc3a8c0f1dbf": {
          "model_module": "@jupyter-widgets/base",
          "model_name": "LayoutModel",
          "state": {
            "_view_name": "LayoutView",
            "grid_template_rows": null,
            "right": null,
            "justify_content": null,
            "_view_module": "@jupyter-widgets/base",
            "overflow": null,
            "_model_module_version": "1.2.0",
            "_view_count": null,
            "flex_flow": null,
            "width": null,
            "min_width": null,
            "border": null,
            "align_items": null,
            "bottom": null,
            "_model_module": "@jupyter-widgets/base",
            "top": null,
            "grid_column": null,
            "overflow_y": null,
            "overflow_x": null,
            "grid_auto_flow": null,
            "grid_area": null,
            "grid_template_columns": null,
            "flex": null,
            "_model_name": "LayoutModel",
            "justify_items": null,
            "grid_row": null,
            "max_height": null,
            "align_content": null,
            "visibility": null,
            "align_self": null,
            "height": null,
            "min_height": null,
            "padding": null,
            "grid_auto_rows": null,
            "grid_gap": null,
            "max_width": null,
            "order": null,
            "_view_module_version": "1.2.0",
            "grid_template_areas": null,
            "object_position": null,
            "object_fit": null,
            "grid_auto_columns": null,
            "margin": null,
            "display": null,
            "left": null
          }
        },
        "769e073d45bd4049bc0954f40f957dd0": {
          "model_module": "@jupyter-widgets/controls",
          "model_name": "FloatProgressModel",
          "state": {
            "_view_name": "ProgressView",
            "style": "IPY_MODEL_e3bb355d75534a8399982dd19f5b1019",
            "_dom_classes": [],
            "description": "100%",
            "_model_name": "FloatProgressModel",
            "bar_style": "success",
            "max": 100,
            "_view_module": "@jupyter-widgets/controls",
            "_model_module_version": "1.5.0",
            "value": 100,
            "_view_count": null,
            "_view_module_version": "1.5.0",
            "orientation": "horizontal",
            "min": 0,
            "description_tooltip": null,
            "_model_module": "@jupyter-widgets/controls",
            "layout": "IPY_MODEL_8f40c31d5c8d4dc4a722d3cf8c7e40b1"
          }
        },
        "9e440386157f4d8aa34b2a3d38d1479f": {
          "model_module": "@jupyter-widgets/controls",
          "model_name": "HTMLModel",
          "state": {
            "_view_name": "HTMLView",
            "style": "IPY_MODEL_db1c5eb19a0b412786a8e096cd7dfffc",
            "_dom_classes": [],
            "description": "",
            "_model_name": "HTMLModel",
            "placeholder": "​",
            "_view_module": "@jupyter-widgets/controls",
            "_model_module_version": "1.5.0",
            "value": " 100/100 [01:47&lt;00:00,  1.08s/it]",
            "_view_count": null,
            "_view_module_version": "1.5.0",
            "description_tooltip": null,
            "_model_module": "@jupyter-widgets/controls",
            "layout": "IPY_MODEL_990c85754aa64344ad51d167a4fd8468"
          }
        },
        "e3bb355d75534a8399982dd19f5b1019": {
          "model_module": "@jupyter-widgets/controls",
          "model_name": "ProgressStyleModel",
          "state": {
            "_view_name": "StyleView",
            "_model_name": "ProgressStyleModel",
            "description_width": "initial",
            "_view_module": "@jupyter-widgets/base",
            "_model_module_version": "1.5.0",
            "_view_count": null,
            "_view_module_version": "1.2.0",
            "bar_color": null,
            "_model_module": "@jupyter-widgets/controls"
          }
        },
        "8f40c31d5c8d4dc4a722d3cf8c7e40b1": {
          "model_module": "@jupyter-widgets/base",
          "model_name": "LayoutModel",
          "state": {
            "_view_name": "LayoutView",
            "grid_template_rows": null,
            "right": null,
            "justify_content": null,
            "_view_module": "@jupyter-widgets/base",
            "overflow": null,
            "_model_module_version": "1.2.0",
            "_view_count": null,
            "flex_flow": null,
            "width": null,
            "min_width": null,
            "border": null,
            "align_items": null,
            "bottom": null,
            "_model_module": "@jupyter-widgets/base",
            "top": null,
            "grid_column": null,
            "overflow_y": null,
            "overflow_x": null,
            "grid_auto_flow": null,
            "grid_area": null,
            "grid_template_columns": null,
            "flex": null,
            "_model_name": "LayoutModel",
            "justify_items": null,
            "grid_row": null,
            "max_height": null,
            "align_content": null,
            "visibility": null,
            "align_self": null,
            "height": null,
            "min_height": null,
            "padding": null,
            "grid_auto_rows": null,
            "grid_gap": null,
            "max_width": null,
            "order": null,
            "_view_module_version": "1.2.0",
            "grid_template_areas": null,
            "object_position": null,
            "object_fit": null,
            "grid_auto_columns": null,
            "margin": null,
            "display": null,
            "left": null
          }
        },
        "db1c5eb19a0b412786a8e096cd7dfffc": {
          "model_module": "@jupyter-widgets/controls",
          "model_name": "DescriptionStyleModel",
          "state": {
            "_view_name": "StyleView",
            "_model_name": "DescriptionStyleModel",
            "description_width": "",
            "_view_module": "@jupyter-widgets/base",
            "_model_module_version": "1.5.0",
            "_view_count": null,
            "_view_module_version": "1.2.0",
            "_model_module": "@jupyter-widgets/controls"
          }
        },
        "990c85754aa64344ad51d167a4fd8468": {
          "model_module": "@jupyter-widgets/base",
          "model_name": "LayoutModel",
          "state": {
            "_view_name": "LayoutView",
            "grid_template_rows": null,
            "right": null,
            "justify_content": null,
            "_view_module": "@jupyter-widgets/base",
            "overflow": null,
            "_model_module_version": "1.2.0",
            "_view_count": null,
            "flex_flow": null,
            "width": null,
            "min_width": null,
            "border": null,
            "align_items": null,
            "bottom": null,
            "_model_module": "@jupyter-widgets/base",
            "top": null,
            "grid_column": null,
            "overflow_y": null,
            "overflow_x": null,
            "grid_auto_flow": null,
            "grid_area": null,
            "grid_template_columns": null,
            "flex": null,
            "_model_name": "LayoutModel",
            "justify_items": null,
            "grid_row": null,
            "max_height": null,
            "align_content": null,
            "visibility": null,
            "align_self": null,
            "height": null,
            "min_height": null,
            "padding": null,
            "grid_auto_rows": null,
            "grid_gap": null,
            "max_width": null,
            "order": null,
            "_view_module_version": "1.2.0",
            "grid_template_areas": null,
            "object_position": null,
            "object_fit": null,
            "grid_auto_columns": null,
            "margin": null,
            "display": null,
            "left": null
          }
        },
        "8a8e550f03304f1881f30dea7c9f1297": {
          "model_module": "@jupyter-widgets/controls",
          "model_name": "HBoxModel",
          "state": {
            "_view_name": "HBoxView",
            "_dom_classes": [],
            "_model_name": "HBoxModel",
            "_view_module": "@jupyter-widgets/controls",
            "_model_module_version": "1.5.0",
            "_view_count": null,
            "_view_module_version": "1.5.0",
            "box_style": "",
            "layout": "IPY_MODEL_393cdf1b6e0a4fce8b1c1353ad474775",
            "_model_module": "@jupyter-widgets/controls",
            "children": [
              "IPY_MODEL_8bad89d1ac74436ea47a635efbde0599",
              "IPY_MODEL_095321abf4074298a199aab83c7bf159"
            ]
          }
        },
        "393cdf1b6e0a4fce8b1c1353ad474775": {
          "model_module": "@jupyter-widgets/base",
          "model_name": "LayoutModel",
          "state": {
            "_view_name": "LayoutView",
            "grid_template_rows": null,
            "right": null,
            "justify_content": null,
            "_view_module": "@jupyter-widgets/base",
            "overflow": null,
            "_model_module_version": "1.2.0",
            "_view_count": null,
            "flex_flow": null,
            "width": null,
            "min_width": null,
            "border": null,
            "align_items": null,
            "bottom": null,
            "_model_module": "@jupyter-widgets/base",
            "top": null,
            "grid_column": null,
            "overflow_y": null,
            "overflow_x": null,
            "grid_auto_flow": null,
            "grid_area": null,
            "grid_template_columns": null,
            "flex": null,
            "_model_name": "LayoutModel",
            "justify_items": null,
            "grid_row": null,
            "max_height": null,
            "align_content": null,
            "visibility": null,
            "align_self": null,
            "height": null,
            "min_height": null,
            "padding": null,
            "grid_auto_rows": null,
            "grid_gap": null,
            "max_width": null,
            "order": null,
            "_view_module_version": "1.2.0",
            "grid_template_areas": null,
            "object_position": null,
            "object_fit": null,
            "grid_auto_columns": null,
            "margin": null,
            "display": null,
            "left": null
          }
        },
        "8bad89d1ac74436ea47a635efbde0599": {
          "model_module": "@jupyter-widgets/controls",
          "model_name": "FloatProgressModel",
          "state": {
            "_view_name": "ProgressView",
            "style": "IPY_MODEL_f29999b632a447c6a190122169626aa7",
            "_dom_classes": [],
            "description": "100%",
            "_model_name": "FloatProgressModel",
            "bar_style": "success",
            "max": 100,
            "_view_module": "@jupyter-widgets/controls",
            "_model_module_version": "1.5.0",
            "value": 100,
            "_view_count": null,
            "_view_module_version": "1.5.0",
            "orientation": "horizontal",
            "min": 0,
            "description_tooltip": null,
            "_model_module": "@jupyter-widgets/controls",
            "layout": "IPY_MODEL_bc6428902fe345039b3b89f91ef11c76"
          }
        },
        "095321abf4074298a199aab83c7bf159": {
          "model_module": "@jupyter-widgets/controls",
          "model_name": "HTMLModel",
          "state": {
            "_view_name": "HTMLView",
            "style": "IPY_MODEL_5ee92e41cdd947bdbb094a60b11088c1",
            "_dom_classes": [],
            "description": "",
            "_model_name": "HTMLModel",
            "placeholder": "​",
            "_view_module": "@jupyter-widgets/controls",
            "_model_module_version": "1.5.0",
            "value": " 100/100 [01:15&lt;00:00,  1.32it/s]",
            "_view_count": null,
            "_view_module_version": "1.5.0",
            "description_tooltip": null,
            "_model_module": "@jupyter-widgets/controls",
            "layout": "IPY_MODEL_ea78557328364ab1808e9d5a75ee996e"
          }
        },
        "f29999b632a447c6a190122169626aa7": {
          "model_module": "@jupyter-widgets/controls",
          "model_name": "ProgressStyleModel",
          "state": {
            "_view_name": "StyleView",
            "_model_name": "ProgressStyleModel",
            "description_width": "initial",
            "_view_module": "@jupyter-widgets/base",
            "_model_module_version": "1.5.0",
            "_view_count": null,
            "_view_module_version": "1.2.0",
            "bar_color": null,
            "_model_module": "@jupyter-widgets/controls"
          }
        },
        "bc6428902fe345039b3b89f91ef11c76": {
          "model_module": "@jupyter-widgets/base",
          "model_name": "LayoutModel",
          "state": {
            "_view_name": "LayoutView",
            "grid_template_rows": null,
            "right": null,
            "justify_content": null,
            "_view_module": "@jupyter-widgets/base",
            "overflow": null,
            "_model_module_version": "1.2.0",
            "_view_count": null,
            "flex_flow": null,
            "width": null,
            "min_width": null,
            "border": null,
            "align_items": null,
            "bottom": null,
            "_model_module": "@jupyter-widgets/base",
            "top": null,
            "grid_column": null,
            "overflow_y": null,
            "overflow_x": null,
            "grid_auto_flow": null,
            "grid_area": null,
            "grid_template_columns": null,
            "flex": null,
            "_model_name": "LayoutModel",
            "justify_items": null,
            "grid_row": null,
            "max_height": null,
            "align_content": null,
            "visibility": null,
            "align_self": null,
            "height": null,
            "min_height": null,
            "padding": null,
            "grid_auto_rows": null,
            "grid_gap": null,
            "max_width": null,
            "order": null,
            "_view_module_version": "1.2.0",
            "grid_template_areas": null,
            "object_position": null,
            "object_fit": null,
            "grid_auto_columns": null,
            "margin": null,
            "display": null,
            "left": null
          }
        },
        "5ee92e41cdd947bdbb094a60b11088c1": {
          "model_module": "@jupyter-widgets/controls",
          "model_name": "DescriptionStyleModel",
          "state": {
            "_view_name": "StyleView",
            "_model_name": "DescriptionStyleModel",
            "description_width": "",
            "_view_module": "@jupyter-widgets/base",
            "_model_module_version": "1.5.0",
            "_view_count": null,
            "_view_module_version": "1.2.0",
            "_model_module": "@jupyter-widgets/controls"
          }
        },
        "ea78557328364ab1808e9d5a75ee996e": {
          "model_module": "@jupyter-widgets/base",
          "model_name": "LayoutModel",
          "state": {
            "_view_name": "LayoutView",
            "grid_template_rows": null,
            "right": null,
            "justify_content": null,
            "_view_module": "@jupyter-widgets/base",
            "overflow": null,
            "_model_module_version": "1.2.0",
            "_view_count": null,
            "flex_flow": null,
            "width": null,
            "min_width": null,
            "border": null,
            "align_items": null,
            "bottom": null,
            "_model_module": "@jupyter-widgets/base",
            "top": null,
            "grid_column": null,
            "overflow_y": null,
            "overflow_x": null,
            "grid_auto_flow": null,
            "grid_area": null,
            "grid_template_columns": null,
            "flex": null,
            "_model_name": "LayoutModel",
            "justify_items": null,
            "grid_row": null,
            "max_height": null,
            "align_content": null,
            "visibility": null,
            "align_self": null,
            "height": null,
            "min_height": null,
            "padding": null,
            "grid_auto_rows": null,
            "grid_gap": null,
            "max_width": null,
            "order": null,
            "_view_module_version": "1.2.0",
            "grid_template_areas": null,
            "object_position": null,
            "object_fit": null,
            "grid_auto_columns": null,
            "margin": null,
            "display": null,
            "left": null
          }
        },
        "5ad92bbad09e4fa3bf9f680ab612076e": {
          "model_module": "@jupyter-widgets/controls",
          "model_name": "HBoxModel",
          "state": {
            "_view_name": "HBoxView",
            "_dom_classes": [],
            "_model_name": "HBoxModel",
            "_view_module": "@jupyter-widgets/controls",
            "_model_module_version": "1.5.0",
            "_view_count": null,
            "_view_module_version": "1.5.0",
            "box_style": "",
            "layout": "IPY_MODEL_220de4681c6640128f9aa593d7b254b5",
            "_model_module": "@jupyter-widgets/controls",
            "children": [
              "IPY_MODEL_a59705df2e97431b9d9f990672c609e5",
              "IPY_MODEL_c277b1d99ad84ca08fc486d394dc0d3e"
            ]
          }
        },
        "220de4681c6640128f9aa593d7b254b5": {
          "model_module": "@jupyter-widgets/base",
          "model_name": "LayoutModel",
          "state": {
            "_view_name": "LayoutView",
            "grid_template_rows": null,
            "right": null,
            "justify_content": null,
            "_view_module": "@jupyter-widgets/base",
            "overflow": null,
            "_model_module_version": "1.2.0",
            "_view_count": null,
            "flex_flow": null,
            "width": null,
            "min_width": null,
            "border": null,
            "align_items": null,
            "bottom": null,
            "_model_module": "@jupyter-widgets/base",
            "top": null,
            "grid_column": null,
            "overflow_y": null,
            "overflow_x": null,
            "grid_auto_flow": null,
            "grid_area": null,
            "grid_template_columns": null,
            "flex": null,
            "_model_name": "LayoutModel",
            "justify_items": null,
            "grid_row": null,
            "max_height": null,
            "align_content": null,
            "visibility": null,
            "align_self": null,
            "height": null,
            "min_height": null,
            "padding": null,
            "grid_auto_rows": null,
            "grid_gap": null,
            "max_width": null,
            "order": null,
            "_view_module_version": "1.2.0",
            "grid_template_areas": null,
            "object_position": null,
            "object_fit": null,
            "grid_auto_columns": null,
            "margin": null,
            "display": null,
            "left": null
          }
        },
        "a59705df2e97431b9d9f990672c609e5": {
          "model_module": "@jupyter-widgets/controls",
          "model_name": "FloatProgressModel",
          "state": {
            "_view_name": "ProgressView",
            "style": "IPY_MODEL_17fe4a14cf87467e8129ffd9fc86bc69",
            "_dom_classes": [],
            "description": "100%",
            "_model_name": "FloatProgressModel",
            "bar_style": "success",
            "max": 50,
            "_view_module": "@jupyter-widgets/controls",
            "_model_module_version": "1.5.0",
            "value": 50,
            "_view_count": null,
            "_view_module_version": "1.5.0",
            "orientation": "horizontal",
            "min": 0,
            "description_tooltip": null,
            "_model_module": "@jupyter-widgets/controls",
            "layout": "IPY_MODEL_2a5f94e3c6b04c9997d26a6eb27a922c"
          }
        },
        "c277b1d99ad84ca08fc486d394dc0d3e": {
          "model_module": "@jupyter-widgets/controls",
          "model_name": "HTMLModel",
          "state": {
            "_view_name": "HTMLView",
            "style": "IPY_MODEL_9e65eeb616dd4ebf89780198c2aa0e61",
            "_dom_classes": [],
            "description": "",
            "_model_name": "HTMLModel",
            "placeholder": "​",
            "_view_module": "@jupyter-widgets/controls",
            "_model_module_version": "1.5.0",
            "value": " 50/50 [00:58&lt;00:00,  1.16s/it]",
            "_view_count": null,
            "_view_module_version": "1.5.0",
            "description_tooltip": null,
            "_model_module": "@jupyter-widgets/controls",
            "layout": "IPY_MODEL_7cebf1655c2c47c7b3425cd4002d5837"
          }
        },
        "17fe4a14cf87467e8129ffd9fc86bc69": {
          "model_module": "@jupyter-widgets/controls",
          "model_name": "ProgressStyleModel",
          "state": {
            "_view_name": "StyleView",
            "_model_name": "ProgressStyleModel",
            "description_width": "initial",
            "_view_module": "@jupyter-widgets/base",
            "_model_module_version": "1.5.0",
            "_view_count": null,
            "_view_module_version": "1.2.0",
            "bar_color": null,
            "_model_module": "@jupyter-widgets/controls"
          }
        },
        "2a5f94e3c6b04c9997d26a6eb27a922c": {
          "model_module": "@jupyter-widgets/base",
          "model_name": "LayoutModel",
          "state": {
            "_view_name": "LayoutView",
            "grid_template_rows": null,
            "right": null,
            "justify_content": null,
            "_view_module": "@jupyter-widgets/base",
            "overflow": null,
            "_model_module_version": "1.2.0",
            "_view_count": null,
            "flex_flow": null,
            "width": null,
            "min_width": null,
            "border": null,
            "align_items": null,
            "bottom": null,
            "_model_module": "@jupyter-widgets/base",
            "top": null,
            "grid_column": null,
            "overflow_y": null,
            "overflow_x": null,
            "grid_auto_flow": null,
            "grid_area": null,
            "grid_template_columns": null,
            "flex": null,
            "_model_name": "LayoutModel",
            "justify_items": null,
            "grid_row": null,
            "max_height": null,
            "align_content": null,
            "visibility": null,
            "align_self": null,
            "height": null,
            "min_height": null,
            "padding": null,
            "grid_auto_rows": null,
            "grid_gap": null,
            "max_width": null,
            "order": null,
            "_view_module_version": "1.2.0",
            "grid_template_areas": null,
            "object_position": null,
            "object_fit": null,
            "grid_auto_columns": null,
            "margin": null,
            "display": null,
            "left": null
          }
        },
        "9e65eeb616dd4ebf89780198c2aa0e61": {
          "model_module": "@jupyter-widgets/controls",
          "model_name": "DescriptionStyleModel",
          "state": {
            "_view_name": "StyleView",
            "_model_name": "DescriptionStyleModel",
            "description_width": "",
            "_view_module": "@jupyter-widgets/base",
            "_model_module_version": "1.5.0",
            "_view_count": null,
            "_view_module_version": "1.2.0",
            "_model_module": "@jupyter-widgets/controls"
          }
        },
        "7cebf1655c2c47c7b3425cd4002d5837": {
          "model_module": "@jupyter-widgets/base",
          "model_name": "LayoutModel",
          "state": {
            "_view_name": "LayoutView",
            "grid_template_rows": null,
            "right": null,
            "justify_content": null,
            "_view_module": "@jupyter-widgets/base",
            "overflow": null,
            "_model_module_version": "1.2.0",
            "_view_count": null,
            "flex_flow": null,
            "width": null,
            "min_width": null,
            "border": null,
            "align_items": null,
            "bottom": null,
            "_model_module": "@jupyter-widgets/base",
            "top": null,
            "grid_column": null,
            "overflow_y": null,
            "overflow_x": null,
            "grid_auto_flow": null,
            "grid_area": null,
            "grid_template_columns": null,
            "flex": null,
            "_model_name": "LayoutModel",
            "justify_items": null,
            "grid_row": null,
            "max_height": null,
            "align_content": null,
            "visibility": null,
            "align_self": null,
            "height": null,
            "min_height": null,
            "padding": null,
            "grid_auto_rows": null,
            "grid_gap": null,
            "max_width": null,
            "order": null,
            "_view_module_version": "1.2.0",
            "grid_template_areas": null,
            "object_position": null,
            "object_fit": null,
            "grid_auto_columns": null,
            "margin": null,
            "display": null,
            "left": null
          }
        }
      }
    }
  },
  "cells": [
    {
      "cell_type": "markdown",
      "metadata": {
        "id": "xLzOpmj5YIU5"
      },
      "source": [
        "<h2>CS 4780/5780 Final Project: </h2>\n",
        "<h3>COVID-19 Hospitalizations Prediction for EU Countries</h3>\n",
        "\n",
        "Names and NetIDs for your group members: Rishi Malhotra (rm725), Maitreyi Chatterjee (mc2259), Ji Won Kim (jk2887)\n"
      ]
    },
    {
      "cell_type": "markdown",
      "metadata": {
        "id": "SC2GoN4SYIVG"
      },
      "source": [
        "<h3>Introduction:</h3>\n",
        "\n",
        "<p> The final project is about conducting a real-world machine learning project on your own, with everything that is involved. Unlike in the programming projects 1-5, where we gave you all the scaffolding and you just filled in the blanks, you now start from scratch. The programming project provide templates for how to do this, and the most recent video lectures summarize some of the tricks you will need (e.g. feature normalization, feature construction). So, this final project brings realism to how you will use machine learning in the real world.  </p>\n",
        "\n",
        "The task you will work on is predicting hospitalizations due to COVID-19. Although hospitalizations are directly related to COVID-19 cases, the different populations, timelines and reactionary measures of different EU countries result in different trends in hospitalization numbers. In this project you will bring the power of machine learning to make predictions for the country-level hospitalizations using COVID-19 age group case data and also previous hospitalization data. There will be two tasks, one will be a basic problem that will require you to use methods learned in class. The second task will be more difficult and will require some additional intuition and insight. <b>Please read the project description PDF file carefully and follow the instructions there. Also make sure you write your code and answers to all the questions in this Jupyter Notebook </b> </p>\n",
        "<p>\n"
      ]
    },
    {
      "cell_type": "markdown",
      "metadata": {
        "id": "S5t6aGPOYIVH"
      },
      "source": [
        "![europe-second-wave-covid-promo-1604686277132-superJumbo.png]\n",
        "\n",
        "(attachment:europe-second-wave-covid-promo-1604686277132-superJumbo.png)"
      ]
    },
    {
      "cell_type": "markdown",
      "metadata": {
        "id": "toPNuLxOYIVH"
      },
      "source": [
        "<h2>Part 1: Basics</h2><p>"
      ]
    },
    {
      "cell_type": "markdown",
      "metadata": {
        "id": "ORTyEcO-YIVI"
      },
      "source": [
        "<h3>1.1 Import:</h3><p>\n",
        "Please import necessary packages to use. Note that learning and using packages are recommended but not required for this project. Some official tutorial for suggested packacges includes:\n",
        "    \n",
        "https://scikit-learn.org/stable/tutorial/basic/tutorial.html\n",
        "    \n",
        "https://pytorch.org/tutorials/\n",
        "    \n",
        "https://pandas.pydata.org/pandas-docs/stable/user_guide/10min.html\n",
        "<p>"
      ]
    },
    {
      "cell_type": "code",
      "metadata": {
        "id": "E4uMJcIgYIVI",
        "collapsed": true
      },
      "source": [
        "from google.colab import drive\n",
        "import os\n",
        "import pandas as pd\n",
        "import numpy as np\n",
        "import matplotlib\n",
        "import tqdm.notebook as tq\n",
        "import matplotlib.pyplot as plt\n",
        "\n",
        "drive.mount('/content/drive', force_remount=True)\n",
        "dir_path = 'drive/My Drive/cs4780_project'\n",
        "# TODO\n",
        "!pip install pytorch_lightning\n",
        "import pytorch_lightning as pl"
      ],
      "execution_count": null,
      "outputs": []
    },
    {
      "cell_type": "code",
      "metadata": {
        "id": "sGDqb6-hoDzu"
      },
      "source": [
        "import torch\n",
        "import torchvision\n",
        "import numpy as np\n",
        "import torch.nn.functional as F\n",
        "import torch.nn as nn\n",
        "import torch.optim as optim\n",
        "import tqdm.notebook as tq\n",
        "from torch.utils.data import Dataset, DataLoader"
      ],
      "execution_count": null,
      "outputs": []
    },
    {
      "cell_type": "code",
      "metadata": {
        "id": "TWAvA2XnY6T8"
      },
      "source": [
        "# !unzip drive/MyDrive/cs4780_project/datasets.zip -d drive/MyDrive/cs4780_project/"
      ],
      "execution_count": null,
      "outputs": []
    },
    {
      "cell_type": "markdown",
      "metadata": {
        "id": "6cGM-x8pYIVJ"
      },
      "source": [
        "<h3>1.2 Accuracy and Mean Squared Error:</h3><p>\n",
        "To measure your performance in the Kaggle Competition, we are using accuracy and mean squared error (MSE). As a recap, accuracy is the percent of labels you predict correctly and MSE is the average squared difference between the estimated values and the actual value. To measure this, you can use library functions from sklearn. A simple example is shown below. \n",
        "<p>"
      ]
    },
    {
      "cell_type": "code",
      "metadata": {
        "id": "mlEKtDihYIVJ",
        "colab": {
          "base_uri": "https://localhost:8080/"
        },
        "outputId": "6c0c6384-3977-48f4-8ba9-9e47d1c008b1"
      },
      "source": [
        "from sklearn.metrics import accuracy_score, f1_score\n",
        "y_pred = [3, 2, 1, 0, 1, 2, 3]\n",
        "y_true = [0, 1, 2, 3, 1, 2, 3]\n",
        "accuracy_score(y_true, y_pred)"
      ],
      "execution_count": null,
      "outputs": [
        {
          "output_type": "execute_result",
          "data": {
            "text/plain": [
              "0.42857142857142855"
            ]
          },
          "metadata": {
            "tags": []
          },
          "execution_count": 3
        }
      ]
    },
    {
      "cell_type": "code",
      "metadata": {
        "id": "Lbtm0xsJYIVL",
        "colab": {
          "base_uri": "https://localhost:8080/"
        },
        "outputId": "e6c1a6c0-257f-4302-df77-a948793e10b9"
      },
      "source": [
        "from sklearn.metrics import mean_squared_error\n",
        "mean_squared_error(y_true, y_pred)"
      ],
      "execution_count": null,
      "outputs": [
        {
          "output_type": "execute_result",
          "data": {
            "text/plain": [
              "2.857142857142857"
            ]
          },
          "metadata": {
            "tags": []
          },
          "execution_count": 4
        }
      ]
    },
    {
      "cell_type": "markdown",
      "metadata": {
        "id": "k-YmpE8EYIVL"
      },
      "source": [
        "<h2>Part 2: Baseline Solution</h2><p>\n",
        "Note that your code should be commented well and in part 2.4 you can refer to your comments."
      ]
    },
    {
      "cell_type": "markdown",
      "metadata": {
        "id": "5W8_j4lkYIVM"
      },
      "source": [
        "<h3>2.1 Preprocessing and Feature Extraction:</h3><p>\n",
        "Given the training dataset and graph information, you need to correctly preprocess the dataset (e.g. feature normalization). Think of what modifications can be done to the data to make it more easily interpretable.\n",
        "<p>"
      ]
    },
    {
      "cell_type": "code",
      "metadata": {
        "id": "_9ov0QuUYIVM"
      },
      "source": [
        "# You may change this but we suggest loading data with the following code and you may need to change\n",
        "# datatypes and do necessary data transformation after loading the raw data to the dataframe.\n",
        "# df = pd.read_csv(dataset_path, sep=',',header=None, encoding='unicode_escape')\n",
        "\n",
        "# make a shortcut of the shared drive onto the real drive\n",
        "dataset_path = \"/content/drive/MyDrive/cs4780_project/train_baseline.csv\"\n",
        "train_baseline_df = pd.read_csv(dataset_path, sep=',', encoding='unicode_escape')\n",
        "\n",
        "dataset_path = \"/content/drive/MyDrive/cs4780_project/test_baseline_no_label.csv\"\n",
        "test_baseline_df = pd.read_csv(dataset_path, sep=',', encoding='unicode_escape')\n",
        "\n",
        "# Make sure you comment your code clearly and you may refer to these comments in the part 2.4\n",
        "# TODO"
      ],
      "execution_count": null,
      "outputs": []
    },
    {
      "cell_type": "code",
      "metadata": {
        "colab": {
          "base_uri": "https://localhost:8080/",
          "height": 473
        },
        "id": "ni0njJVowkIu",
        "outputId": "c55162c8-a5f1-4457-cb71-a5cf898c7aa3"
      },
      "source": [
        "train_baseline_df"
      ],
      "execution_count": null,
      "outputs": [
        {
          "output_type": "execute_result",
          "data": {
            "text/html": [
              "<div>\n",
              "<style scoped>\n",
              "    .dataframe tbody tr th:only-of-type {\n",
              "        vertical-align: middle;\n",
              "    }\n",
              "\n",
              "    .dataframe tbody tr th {\n",
              "        vertical-align: top;\n",
              "    }\n",
              "\n",
              "    .dataframe thead th {\n",
              "        text-align: right;\n",
              "    }\n",
              "</style>\n",
              "<table border=\"1\" class=\"dataframe\">\n",
              "  <thead>\n",
              "    <tr style=\"text-align: right;\">\n",
              "      <th></th>\n",
              "      <th>country</th>\n",
              "      <th>date</th>\n",
              "      <th>year_week</th>\n",
              "      <th>Daily hospital occupancy</th>\n",
              "      <th>under_15_cases</th>\n",
              "      <th>15-24_cases</th>\n",
              "      <th>25-49_cases</th>\n",
              "      <th>50-64_cases</th>\n",
              "      <th>65-79_cases</th>\n",
              "      <th>over_80_cases</th>\n",
              "      <th>next_week_increase_decrease</th>\n",
              "    </tr>\n",
              "  </thead>\n",
              "  <tbody>\n",
              "    <tr>\n",
              "      <th>0</th>\n",
              "      <td>Belgium</td>\n",
              "      <td>3/15/2020</td>\n",
              "      <td>2020-W11</td>\n",
              "      <td>263</td>\n",
              "      <td>25</td>\n",
              "      <td>44</td>\n",
              "      <td>173</td>\n",
              "      <td>97</td>\n",
              "      <td>38</td>\n",
              "      <td>10</td>\n",
              "      <td>1</td>\n",
              "    </tr>\n",
              "    <tr>\n",
              "      <th>1</th>\n",
              "      <td>Belgium</td>\n",
              "      <td>3/16/2020</td>\n",
              "      <td>2020-W12</td>\n",
              "      <td>370</td>\n",
              "      <td>31</td>\n",
              "      <td>74</td>\n",
              "      <td>568</td>\n",
              "      <td>301</td>\n",
              "      <td>193</td>\n",
              "      <td>169</td>\n",
              "      <td>1</td>\n",
              "    </tr>\n",
              "    <tr>\n",
              "      <th>2</th>\n",
              "      <td>Belgium</td>\n",
              "      <td>3/17/2020</td>\n",
              "      <td>2020-W12</td>\n",
              "      <td>493</td>\n",
              "      <td>31</td>\n",
              "      <td>74</td>\n",
              "      <td>568</td>\n",
              "      <td>301</td>\n",
              "      <td>193</td>\n",
              "      <td>169</td>\n",
              "      <td>1</td>\n",
              "    </tr>\n",
              "    <tr>\n",
              "      <th>3</th>\n",
              "      <td>Belgium</td>\n",
              "      <td>3/18/2020</td>\n",
              "      <td>2020-W12</td>\n",
              "      <td>646</td>\n",
              "      <td>31</td>\n",
              "      <td>74</td>\n",
              "      <td>568</td>\n",
              "      <td>301</td>\n",
              "      <td>193</td>\n",
              "      <td>169</td>\n",
              "      <td>1</td>\n",
              "    </tr>\n",
              "    <tr>\n",
              "      <th>4</th>\n",
              "      <td>Belgium</td>\n",
              "      <td>3/19/2020</td>\n",
              "      <td>2020-W12</td>\n",
              "      <td>840</td>\n",
              "      <td>31</td>\n",
              "      <td>74</td>\n",
              "      <td>568</td>\n",
              "      <td>301</td>\n",
              "      <td>193</td>\n",
              "      <td>169</td>\n",
              "      <td>1</td>\n",
              "    </tr>\n",
              "    <tr>\n",
              "      <th>...</th>\n",
              "      <td>...</td>\n",
              "      <td>...</td>\n",
              "      <td>...</td>\n",
              "      <td>...</td>\n",
              "      <td>...</td>\n",
              "      <td>...</td>\n",
              "      <td>...</td>\n",
              "      <td>...</td>\n",
              "      <td>...</td>\n",
              "      <td>...</td>\n",
              "      <td>...</td>\n",
              "    </tr>\n",
              "    <tr>\n",
              "      <th>3980</th>\n",
              "      <td>Spain</td>\n",
              "      <td>2/19/2021</td>\n",
              "      <td>2021-W07</td>\n",
              "      <td>16314</td>\n",
              "      <td>7616</td>\n",
              "      <td>5561</td>\n",
              "      <td>16229</td>\n",
              "      <td>8305</td>\n",
              "      <td>4095</td>\n",
              "      <td>2267</td>\n",
              "      <td>0</td>\n",
              "    </tr>\n",
              "    <tr>\n",
              "      <th>3981</th>\n",
              "      <td>Spain</td>\n",
              "      <td>2/22/2021</td>\n",
              "      <td>2021-W08</td>\n",
              "      <td>15208</td>\n",
              "      <td>5714</td>\n",
              "      <td>4520</td>\n",
              "      <td>12951</td>\n",
              "      <td>6671</td>\n",
              "      <td>3241</td>\n",
              "      <td>1620</td>\n",
              "      <td>0</td>\n",
              "    </tr>\n",
              "    <tr>\n",
              "      <th>3982</th>\n",
              "      <td>Spain</td>\n",
              "      <td>2/24/2021</td>\n",
              "      <td>2021-W08</td>\n",
              "      <td>13495</td>\n",
              "      <td>5714</td>\n",
              "      <td>4520</td>\n",
              "      <td>12951</td>\n",
              "      <td>6671</td>\n",
              "      <td>3241</td>\n",
              "      <td>1620</td>\n",
              "      <td>0</td>\n",
              "    </tr>\n",
              "    <tr>\n",
              "      <th>3983</th>\n",
              "      <td>Spain</td>\n",
              "      <td>2/25/2021</td>\n",
              "      <td>2021-W08</td>\n",
              "      <td>12831</td>\n",
              "      <td>5714</td>\n",
              "      <td>4520</td>\n",
              "      <td>12951</td>\n",
              "      <td>6671</td>\n",
              "      <td>3241</td>\n",
              "      <td>1620</td>\n",
              "      <td>0</td>\n",
              "    </tr>\n",
              "    <tr>\n",
              "      <th>3984</th>\n",
              "      <td>Spain</td>\n",
              "      <td>2/26/2021</td>\n",
              "      <td>2021-W08</td>\n",
              "      <td>12207</td>\n",
              "      <td>5714</td>\n",
              "      <td>4520</td>\n",
              "      <td>12951</td>\n",
              "      <td>6671</td>\n",
              "      <td>3241</td>\n",
              "      <td>1620</td>\n",
              "      <td>0</td>\n",
              "    </tr>\n",
              "  </tbody>\n",
              "</table>\n",
              "<p>3985 rows × 11 columns</p>\n",
              "</div>"
            ],
            "text/plain": [
              "      country       date  ... over_80_cases  next_week_increase_decrease\n",
              "0     Belgium  3/15/2020  ...            10                            1\n",
              "1     Belgium  3/16/2020  ...           169                            1\n",
              "2     Belgium  3/17/2020  ...           169                            1\n",
              "3     Belgium  3/18/2020  ...           169                            1\n",
              "4     Belgium  3/19/2020  ...           169                            1\n",
              "...       ...        ...  ...           ...                          ...\n",
              "3980    Spain  2/19/2021  ...          2267                            0\n",
              "3981    Spain  2/22/2021  ...          1620                            0\n",
              "3982    Spain  2/24/2021  ...          1620                            0\n",
              "3983    Spain  2/25/2021  ...          1620                            0\n",
              "3984    Spain  2/26/2021  ...          1620                            0\n",
              "\n",
              "[3985 rows x 11 columns]"
            ]
          },
          "metadata": {
            "tags": []
          },
          "execution_count": 51
        }
      ]
    },
    {
      "cell_type": "code",
      "metadata": {
        "colab": {
          "base_uri": "https://localhost:8080/"
        },
        "id": "w2tXd4B5sslj",
        "outputId": "3e17a812-1013-497c-b3eb-7b72d66bf10b"
      },
      "source": [
        "print(f\"Countries in the dataset: {train_baseline_df['country'].unique()}\\n\")\n",
        "print(f\"Year_weeks in the dataset: {train_baseline_df['year_week'].unique()}\\n\")\n",
        "\n",
        "for col_name in ['under_15_cases', '15-24_cases', '25-49_cases','50-64_cases','65-79_cases','over_80_cases']:\n",
        "    print(f\"{col_name}: median: {train_baseline_df[col_name].median()}, mean: {train_baseline_df[col_name].mean()}, std: {train_baseline_df[col_name].std()}\")\n"
      ],
      "execution_count": null,
      "outputs": [
        {
          "output_type": "stream",
          "text": [
            "Countries in the dataset: ['Belgium' 'Croatia' 'Cyprus' 'Czechia' 'Denmark' 'Estonia' 'Iceland'\n",
            " 'Ireland' 'Italy' 'Lithuania' 'Netherlands' 'Norway' 'Portugal'\n",
            " 'Slovenia' 'Spain']\n",
            "\n",
            "Year_weeks in the dataset: ['2020-W11' '2020-W12' '2020-W13' '2020-W14' '2020-W15' '2020-W16'\n",
            " '2020-W17' '2020-W18' '2020-W19' '2020-W20' '2020-W21' '2020-W22'\n",
            " '2020-W23' '2020-W24' '2020-W25' '2020-W26' '2020-W27' '2020-W28'\n",
            " '2020-W29' '2020-W30' '2020-W31' '2020-W32' '2020-W33' '2020-W34'\n",
            " '2020-W35' '2020-W36' '2020-W41' '2020-W42' '2020-W43' '2020-W44'\n",
            " '2020-W45' '2020-W46' '2020-W47' '2020-W48' '2020-W53' '2021-W01'\n",
            " '2021-W02' '2021-W03' '2021-W04' '2021-W05' '2021-W06' '2021-W07'\n",
            " '2021-W08' '2021-W13' '2020-W09' '2020-W10' '2020-W07']\n",
            "\n",
            "under_15_cases: median: 106.0, mean: 1316.4509410288583, std: 3500.121567763204\n",
            "15-24_cases: median: 240.0, mean: 1762.3435382685068, std: 4022.626724134494\n",
            "25-49_cases: median: 772.0, mean: 5470.972647427854, std: 12481.01224796851\n",
            "50-64_cases: median: 368.0, mean: 3216.8112923462986, std: 7769.784979459254\n",
            "65-79_cases: median: 169.0, mean: 1628.1563362609786, std: 3938.433176523941\n",
            "over_80_cases: median: 93.0, mean: 1044.6233375156837, std: 2523.8069254591114\n"
          ],
          "name": "stdout"
        }
      ]
    },
    {
      "cell_type": "markdown",
      "metadata": {
        "id": "914guQcKYIVN"
      },
      "source": [
        "<h3>2.2 Use At Least Two Training Algorithms from class:</h3><p>\n",
        "You need to use at least two training algorithms from class. You can use your code from previous projects or any packages you imported in part 1.1."
      ]
    },
    {
      "cell_type": "code",
      "metadata": {
        "id": "ilqdExVvYIVO"
      },
      "source": [
        "# Make sure you comment your code clearly and you may refer to these comments in the part 2.4\n",
        "train_baseline_raw = train_baseline_df.to_numpy()\n",
        "test_baseline_raw = test_baseline_df.to_numpy()"
      ],
      "execution_count": null,
      "outputs": []
    },
    {
      "cell_type": "code",
      "metadata": {
        "id": "1bRaswK-7cTe"
      },
      "source": [
        "def get_bag_of_words(col):\n",
        "  col_list = ['UNK'] + sorted(list(set(col)))\n",
        "  indexed_col_list = [(el, idx) for idx, el in enumerate(col_list)]\n",
        "  return dict(indexed_col_list)"
      ],
      "execution_count": null,
      "outputs": []
    },
    {
      "cell_type": "code",
      "metadata": {
        "id": "ppqPDO9w26gS"
      },
      "source": [
        "COUNTRIES = get_bag_of_words(train_baseline_raw[:,0])\n",
        "DATES = get_bag_of_words(train_baseline_raw[:,1])\n",
        "YEAR_WEEKS = get_bag_of_words(train_baseline_raw[:,2])\n",
        "print(f\"Countries: {COUNTRIES}\")\n",
        "print(f\"Dates: {DATES}\")\n",
        "print(f\"Year_weeks: {YEAR_WEEKS}\")"
      ],
      "execution_count": null,
      "outputs": []
    },
    {
      "cell_type": "code",
      "metadata": {
        "colab": {
          "base_uri": "https://localhost:8080/",
          "height": 258
        },
        "id": "PkFw1JfP7w3L",
        "outputId": "20cd3414-89ee-4313-b9c5-6bd56e450048"
      },
      "source": [
        "train_baseline_df.head()"
      ],
      "execution_count": null,
      "outputs": [
        {
          "output_type": "execute_result",
          "data": {
            "text/html": [
              "<div>\n",
              "<style scoped>\n",
              "    .dataframe tbody tr th:only-of-type {\n",
              "        vertical-align: middle;\n",
              "    }\n",
              "\n",
              "    .dataframe tbody tr th {\n",
              "        vertical-align: top;\n",
              "    }\n",
              "\n",
              "    .dataframe thead th {\n",
              "        text-align: right;\n",
              "    }\n",
              "</style>\n",
              "<table border=\"1\" class=\"dataframe\">\n",
              "  <thead>\n",
              "    <tr style=\"text-align: right;\">\n",
              "      <th></th>\n",
              "      <th>country</th>\n",
              "      <th>date</th>\n",
              "      <th>year_week</th>\n",
              "      <th>Daily hospital occupancy</th>\n",
              "      <th>under_15_cases</th>\n",
              "      <th>15-24_cases</th>\n",
              "      <th>25-49_cases</th>\n",
              "      <th>50-64_cases</th>\n",
              "      <th>65-79_cases</th>\n",
              "      <th>over_80_cases</th>\n",
              "      <th>next_week_increase_decrease</th>\n",
              "    </tr>\n",
              "  </thead>\n",
              "  <tbody>\n",
              "    <tr>\n",
              "      <th>0</th>\n",
              "      <td>Belgium</td>\n",
              "      <td>3/15/2020</td>\n",
              "      <td>2020-W11</td>\n",
              "      <td>263</td>\n",
              "      <td>25</td>\n",
              "      <td>44</td>\n",
              "      <td>173</td>\n",
              "      <td>97</td>\n",
              "      <td>38</td>\n",
              "      <td>10</td>\n",
              "      <td>1</td>\n",
              "    </tr>\n",
              "    <tr>\n",
              "      <th>1</th>\n",
              "      <td>Belgium</td>\n",
              "      <td>3/16/2020</td>\n",
              "      <td>2020-W12</td>\n",
              "      <td>370</td>\n",
              "      <td>31</td>\n",
              "      <td>74</td>\n",
              "      <td>568</td>\n",
              "      <td>301</td>\n",
              "      <td>193</td>\n",
              "      <td>169</td>\n",
              "      <td>1</td>\n",
              "    </tr>\n",
              "    <tr>\n",
              "      <th>2</th>\n",
              "      <td>Belgium</td>\n",
              "      <td>3/17/2020</td>\n",
              "      <td>2020-W12</td>\n",
              "      <td>493</td>\n",
              "      <td>31</td>\n",
              "      <td>74</td>\n",
              "      <td>568</td>\n",
              "      <td>301</td>\n",
              "      <td>193</td>\n",
              "      <td>169</td>\n",
              "      <td>1</td>\n",
              "    </tr>\n",
              "    <tr>\n",
              "      <th>3</th>\n",
              "      <td>Belgium</td>\n",
              "      <td>3/18/2020</td>\n",
              "      <td>2020-W12</td>\n",
              "      <td>646</td>\n",
              "      <td>31</td>\n",
              "      <td>74</td>\n",
              "      <td>568</td>\n",
              "      <td>301</td>\n",
              "      <td>193</td>\n",
              "      <td>169</td>\n",
              "      <td>1</td>\n",
              "    </tr>\n",
              "    <tr>\n",
              "      <th>4</th>\n",
              "      <td>Belgium</td>\n",
              "      <td>3/19/2020</td>\n",
              "      <td>2020-W12</td>\n",
              "      <td>840</td>\n",
              "      <td>31</td>\n",
              "      <td>74</td>\n",
              "      <td>568</td>\n",
              "      <td>301</td>\n",
              "      <td>193</td>\n",
              "      <td>169</td>\n",
              "      <td>1</td>\n",
              "    </tr>\n",
              "  </tbody>\n",
              "</table>\n",
              "</div>"
            ],
            "text/plain": [
              "   country       date  ... over_80_cases  next_week_increase_decrease\n",
              "0  Belgium  3/15/2020  ...            10                            1\n",
              "1  Belgium  3/16/2020  ...           169                            1\n",
              "2  Belgium  3/17/2020  ...           169                            1\n",
              "3  Belgium  3/18/2020  ...           169                            1\n",
              "4  Belgium  3/19/2020  ...           169                            1\n",
              "\n",
              "[5 rows x 11 columns]"
            ]
          },
          "metadata": {
            "tags": []
          },
          "execution_count": 9
        }
      ]
    },
    {
      "cell_type": "code",
      "metadata": {
        "id": "yVepgHvLGcdD"
      },
      "source": [
        "def convert_year_week(year_week_str):\n",
        "    \"\"\"\n",
        "    This converts the year_week column into an index (e.g, 2020-W01 -> 0). The index\n",
        "    starts from week 1 of 2020 onwards. We convert it to an index because we want the\n",
        "    classifier to take advantage of temporal information (via an index)\n",
        "    :param: year_week_str (str) example: '2020-W01'\n",
        "    :returns: week index (int) starting from 2020\n",
        "    \"\"\"\n",
        "    year, week = year_week_str.split(\"-\")\n",
        "    return (int(year) - 2020) * 53 + int(week[1:])"
      ],
      "execution_count": null,
      "outputs": []
    },
    {
      "cell_type": "code",
      "metadata": {
        "id": "8lLAWqwPx6kc"
      },
      "source": [
        "from sklearn.preprocessing import StandardScaler"
      ],
      "execution_count": null,
      "outputs": []
    },
    {
      "cell_type": "code",
      "metadata": {
        "id": "AC0mKVikyCc-"
      },
      "source": [
        "sscaler = StandardScaler()\n",
        "train_baseline_raw[:, 3:10] = sscaler.fit_transform(train_baseline_raw[:, 3:10])\n",
        "test_baseline_raw[:, 3:10] = sscaler.transform(test_baseline_raw[:, 3:10])"
      ],
      "execution_count": null,
      "outputs": []
    },
    {
      "cell_type": "code",
      "metadata": {
        "id": "73rSRShB3oMl"
      },
      "source": [
        "class Baseline_Dataset(torch.utils.data.Dataset):\n",
        "    \"\"\"\n",
        "    PyTorch Dataset object for loading in the baseline dataset.\n",
        "    This normalizes the dataset and some other preprocessing techniques.\n",
        "    \"\"\"\n",
        "    def __init__(self, baseline_raw, is_test):\n",
        "        \"\"\"\n",
        "        Initializes the dataset object\n",
        "        :param: baseline_raw (np.ndarray) contains the baseline data\n",
        "        :param: is_test (bool) true/false to indicate whether it's the test set\n",
        "        \"\"\"\n",
        "        self.baseline_raw = baseline_raw\n",
        "        self.is_test = is_test\n",
        "\n",
        "    def __len__(self):\n",
        "        \"\"\"\n",
        "        Denotes the total number of samples\n",
        "        :returns: length of dataset\n",
        "        \"\"\"\n",
        "        return len(self.baseline_raw)\n",
        "\n",
        "    def __getitem__(self, idx):\n",
        "        \"\"\"\n",
        "        Generates one sample of the data (indexed by idx)\n",
        "        :param: idx (int) index of data we are returning\n",
        "        :returns: X (np.ndarray) input to neural network\n",
        "        :returns: y (np.ndarray) output to neural network\n",
        "        \"\"\"\n",
        "\n",
        "        if not self.is_test:\n",
        "          X_raw = self.baseline_raw[idx,:-1]\n",
        "        else:\n",
        "          X_raw = self.baseline_raw[idx]\n",
        "\n",
        "        # split the data into columns\n",
        "        country, date, year_week, daily_hospital_occupancy,\\\n",
        "        under_15_cases, x15_24_cases, x25_49_cases, x50_64_cases,\\\n",
        "        x65_79_cases, over_80_cases = X_raw\n",
        "\n",
        "        # create one-hot encoded version of countries\n",
        "        country_num = torch.tensor(COUNTRIES.get(country, 0))\n",
        "        country_ohc = F.one_hot(country_num, num_classes=len(COUNTRIES))\n",
        "\n",
        "        # combine the dataset back together\n",
        "        X = torch.tensor([convert_year_week(year_week)/66,\n",
        "             daily_hospital_occupancy, under_15_cases, x15_24_cases, \n",
        "             x25_49_cases, x50_64_cases, x65_79_cases, over_80_cases])\n",
        "        X = torch.cat((country_ohc, X))\n",
        "\n",
        "        # for training \n",
        "        if not self.is_test:\n",
        "          y = self.baseline_raw[idx,-1]\n",
        "          return X.float(), torch.tensor(y).float()\n",
        "\n",
        "        # test dataset\n",
        "        return X.float()"
      ],
      "execution_count": null,
      "outputs": []
    },
    {
      "cell_type": "markdown",
      "metadata": {
        "id": "NF34tZJjYIVP"
      },
      "source": [
        "<h3>2.3 Training, Validation and Model Selection:</h3><p>\n",
        "You need to split your data to a training set and validation set or performing a cross-validation for model selection."
      ]
    },
    {
      "cell_type": "code",
      "metadata": {
        "id": "wibXHdR-eCIi"
      },
      "source": [
        "train_split = int(0.9 * len(train_baseline_raw))\n",
        "val_split = len(train_baseline_raw) - train_split\n",
        "\n",
        "# split the dataset\n",
        "train_baseline_dataset = Baseline_Dataset(train_baseline_raw, is_test=False)\n",
        "test_baseline_dataset = Baseline_Dataset(test_baseline_raw, is_test=True)\n",
        "train_baseline_raw_split, val_baseline_raw_split = torch.utils.data.random_split(train_baseline_dataset, [train_split, val_split])"
      ],
      "execution_count": null,
      "outputs": []
    },
    {
      "cell_type": "code",
      "metadata": {
        "colab": {
          "base_uri": "https://localhost:8080/"
        },
        "id": "CLy-5XsWeDSB",
        "outputId": "9f565cd1-829a-4b2e-baa7-4ff187bb1cdb"
      },
      "source": [
        "# max index for the year_week_index\n",
        "max_idx = 0\n",
        "for x in range(train_baseline_raw.shape[0]):\n",
        "  max_idx = max(max_idx, convert_year_week(train_baseline_raw[x, 2]))\n",
        "max_idx"
      ],
      "execution_count": null,
      "outputs": [
        {
          "output_type": "execute_result",
          "data": {
            "text/plain": [
              "66"
            ]
          },
          "metadata": {
            "tags": []
          },
          "execution_count": 16
        }
      ]
    },
    {
      "cell_type": "code",
      "metadata": {
        "id": "F07a1ELvQ1xO"
      },
      "source": [
        "class Neural_Net(nn.Module):\n",
        "    \"\"\"\n",
        "    The Neural Network for predicting the baseline dataset\n",
        "    \"\"\"\n",
        "    def __init__(self, input_length):\n",
        "        \"\"\"\n",
        "        Initializes the neural network linear layers\n",
        "        :param: input_length (int) the dimension of the input\n",
        "        \"\"\"\n",
        "        super(Neural_Net, self).__init__()\n",
        "        self.layer1 = nn.Linear(input_length, 1024)\n",
        "        self.layer1b = nn.Linear(1024, 512)\n",
        "        self.layer1c = nn.Linear(512, 256)\n",
        "        self.layer2 = nn.Linear(256, 1)\n",
        "        self.dropout = nn.Dropout(0.1)\n",
        "        self.sigmoid = nn.Sigmoid()\n",
        "        \n",
        "    def forward(self, x):\n",
        "        \"\"\"\n",
        "        Computes forward pass of neural network\n",
        "        :param: x (torch.Tensor) of the input\n",
        "        :returns: y (torch.Tensor) the output of the NN\n",
        "        \"\"\"\n",
        "        out = self.dropout(x)\n",
        "        out = self.layer1(out)\n",
        "        out = F.relu(out)\n",
        "\n",
        "        out = self.dropout(out)\n",
        "        out = self.layer1b(out)\n",
        "        out = F.relu(out)\n",
        "\n",
        "        out = self.dropout(out)\n",
        "        out = self.layer1c(out)\n",
        "        out = F.relu(out)\n",
        "\n",
        "        out = self.dropout(out)\n",
        "        out = self.layer2(out)\n",
        "        out = self.sigmoid(out)\n",
        "\n",
        "        return out"
      ],
      "execution_count": null,
      "outputs": []
    },
    {
      "cell_type": "code",
      "metadata": {
        "id": "NY5czoZ_nNID"
      },
      "source": [
        "def validate(network, loss_method, val_loader, do_print=False):\n",
        "    \"\"\"\n",
        "    Computes the validation loss (and calculates other scores)\n",
        "    :param: network (torch.nn.module) the neural network\n",
        "    :param: loss_method torch loss function to analyze the loss of the validation ds\n",
        "    :param: val_loader (dataloader) (see above)\n",
        "    \"\"\"\n",
        "    preds, labels = [], []\n",
        "    network.eval()\n",
        "    for batch, label in val_loader:\n",
        "        out = network(batch).detach().numpy().T\n",
        "        preds += list(out[0])\n",
        "        labels += label.detach().numpy().tolist()\n",
        "\n",
        "    # something like this is preferable for computing the average loss.\n",
        "    #   for X, y in val_loader:\n",
        "    #     output = network(X) #.detach().numpy().T\n",
        "    #     outputs = torch.argmax(output, axis=1)\n",
        "    #     preds += outputs.tolist()\n",
        "    #     labels += y.tolist()\n",
        "    #     loss = loss_method(output, y)\n",
        "    #     total_loss += loss\n",
        "        \n",
        "    # total_loss /= len(val_loader.dataset)\n",
        "\n",
        "\n",
        "    # rounded prediction\n",
        "    rounded = np.round(preds)\n",
        "    accuracy = accuracy_score(labels, rounded)\n",
        "    f1 = f1_score(labels, rounded)\n",
        "    mse = mean_squared_error(labels, rounded)\n",
        "\n",
        "    # prints for evaluation\n",
        "    if do_print:\n",
        "        print(f\"Preds 0 count | Preds 1 count | Labels 0 count | Labels 1 count\")\n",
        "        print(f\"------{preds.count(0)}------ ------{preds.count(1)}------  -------{labels.count(0)}------ ------{labels.count(1)}------\")\n",
        "        print({'accuracy':accuracy, 'mse':mse, 'f1':f1})\n",
        "    \n",
        "    # computes loss\n",
        "    loss = loss_method(torch.tensor(preds).float(), torch.tensor(labels).float())\n",
        "    return loss.item() "
      ],
      "execution_count": null,
      "outputs": []
    },
    {
      "cell_type": "code",
      "metadata": {
        "id": "Kwm18Qv5S-uG"
      },
      "source": [
        "def train(network, train_loader, val_loader, loss_method, optimizer, path_prepend, \\\n",
        "          num_epochs=30, log_interval=300):\n",
        "    \"\"\"\n",
        "    Trains the neural network (and evaluates on the validation dataset)\n",
        "    :param: network (torch.nn.Module) created above\n",
        "    :param: train_loader (torch.Dataset) for the training set\n",
        "    :param: val_loader (torch.Dataset) for the validation set\n",
        "    :param: loss_method (torch.loss) loss function for the neural network\n",
        "    :param: optimizer (torch.optimizer) optimizer (we use adam/sgd)\n",
        "    :param: path_prepend (str) path to where we save neural networks\n",
        "    :param: num_epochs (int) number of epochs to train\n",
        "    :returns: train_losses (list of float) list of training losses (through epochs)\n",
        "    :returns: val_losses (list of float) list of validation losses (through epochs)\n",
        "    \"\"\"\n",
        "    \n",
        "    train_losses, val_losses = [], []\n",
        "    for epoch in tq.tqdm(range(num_epochs)):\n",
        "        network.train()\n",
        "        epoch_loss = 0\n",
        "        for batch_idx, (X, y) in enumerate(train_loader):\n",
        "            optimizer.zero_grad()\n",
        "\n",
        "            # computes network for the data point\n",
        "            output = network(X)\n",
        "            loss = loss_method(output.flatten(), y)\n",
        "            epoch_loss += loss.item()\n",
        "\n",
        "            loss.backward()\n",
        "            optimizer.step()\n",
        "\n",
        "        train_losses.append(epoch_loss/len(train_loader))\n",
        "        val_loss = validate(network, loss_method, val_loader)\n",
        "        val_losses.append(val_loss)\n",
        "\n",
        "    # saves neural network\n",
        "    if epoch % 50 == 0:\n",
        "        torch.save(network.state_dict(), f\"{path_prepend}/epoch_{epoch}\")\n",
        "\n",
        "    return train_losses, val_losses"
      ],
      "execution_count": null,
      "outputs": []
    },
    {
      "cell_type": "code",
      "metadata": {
        "id": "Z-Agu3__pDE4"
      },
      "source": [
        "def plot_learning_curves(x, train_losses, val_losses):\n",
        "    \"\"\"\n",
        "    Plots the learning curves through epochs.\n",
        "    :param: x (list of ints) indicates where to plot the losses\n",
        "    :param: train_losses (list of floats) losses with training data over epochs\n",
        "    :param: train_losses (list of floats) losses with training data over epochs\n",
        "    \"\"\"\n",
        "    plt.plot(x, train_losses, label=\"train_loss\")\n",
        "    plt.plot(x, val_losses, label=\"val_loss\")\n",
        "    plt.xlabel(\"epochs\")\n",
        "    plt.ylabel(\"loss\")\n",
        "    plt.ylim(top=1)\n",
        "    plt.legend()"
      ],
      "execution_count": null,
      "outputs": []
    },
    {
      "cell_type": "code",
      "metadata": {
        "id": "JRPNvxDZSKjz",
        "colab": {
          "base_uri": "https://localhost:8080/",
          "height": 68,
          "referenced_widgets": [
            "a9862337d88f408ca9eda3c02bf3a0be",
            "8713ca4c125d406bb22f7216085e7d31",
            "c0dd8024f4f84a4ea7ccd85c496415d6",
            "4e98d1e5ca0a4230b2cabc142df29df7",
            "ec0a638ef4354ae6847d8254f05991eb",
            "020ac462ce1145e29083a5aa9e83ee37",
            "063050bef36c430892e64ebc64694a8d",
            "ca8eacda76734b929840c331a1cbb2b7"
          ]
        },
        "collapsed": true,
        "outputId": "822c7ae6-6199-4ed1-b6fd-38ca953fc2ce"
      },
      "source": [
        "# train hyperparameters\n",
        "batch_size = 64\n",
        "learning_rate = 5e-3\n",
        "momentum = 0.9\n",
        "input_length = len(train_baseline_dataset[0][0])\n",
        "num_epochs = 400\n",
        "\n",
        "train_baseline_loader = DataLoader(train_baseline_raw_split, batch_size=batch_size)\n",
        "val_baseline_loader = DataLoader(val_baseline_raw_split, batch_size=batch_size)\n",
        "test_baseline_loader = DataLoader(test_baseline_dataset, batch_size=batch_size)\n",
        "\n",
        "# train the network\n",
        "network = Neural_Net(input_length)\n",
        "optimizer = optim.SGD(network.parameters(), lr=learning_rate, momentum=momentum)\n",
        "loss_method = nn.BCELoss()\n",
        "\n",
        "path_prepend = \"/content/drive/MyDrive/cs4780_project/checkpoints\"\n",
        "train_losses, val_losses = train(network, train_baseline_loader, val_baseline_loader, loss_method, optimizer,path_prepend,num_epochs)\n"
      ],
      "execution_count": null,
      "outputs": [
        {
          "output_type": "display_data",
          "data": {
            "application/vnd.jupyter.widget-view+json": {
              "model_id": "a9862337d88f408ca9eda3c02bf3a0be",
              "version_minor": 0,
              "version_major": 2
            },
            "text/plain": [
              "HBox(children=(FloatProgress(value=0.0, max=400.0), HTML(value='')))"
            ]
          },
          "metadata": {
            "tags": []
          }
        },
        {
          "output_type": "stream",
          "text": [
            "\n"
          ],
          "name": "stdout"
        }
      ]
    },
    {
      "cell_type": "code",
      "metadata": {
        "id": "ilshAqnOnqjm",
        "colab": {
          "base_uri": "https://localhost:8080/",
          "height": 283
        },
        "outputId": "de8e55b8-3669-414d-97a2-af788054863b"
      },
      "source": [
        "plot_learning_curves(list(range(num_epochs)), train_losses, val_losses)"
      ],
      "execution_count": null,
      "outputs": [
        {
          "output_type": "display_data",
          "data": {
            "image/png": "[encoded data removed]",
            "text/plain": [
              "<Figure size 432x288 with 1 Axes>"
            ]
          },
          "metadata": {
            "tags": [],
            "needs_background": "light"
          }
        }
      ]
    },
    {
      "cell_type": "code",
      "metadata": {
        "id": "swQkhUfKpCsc",
        "colab": {
          "base_uri": "https://localhost:8080/"
        },
        "outputId": "0db6ee5c-43df-4d73-8513-7f990722b274"
      },
      "source": [
        "# train loss\n",
        "print(\"TRAIN LOSS\")\n",
        "validate(network, loss_method, train_baseline_loader, do_print=True)"
      ],
      "execution_count": null,
      "outputs": [
        {
          "output_type": "stream",
          "text": [
            "TRAIN LOSS\n",
            "Preds 0 count | Preds 1 count | Labels 0 count | Labels 1 count\n",
            "------0------ ------107------  -------2022------ ------1564------\n",
            "{'accuracy': 0.8722810931399888, 'mse': 0.12771890686001117, 'f1': 0.8479415670650731}\n"
          ],
          "name": "stdout"
        },
        {
          "output_type": "execute_result",
          "data": {
            "text/plain": [
              "0.2578454613685608"
            ]
          },
          "metadata": {
            "tags": []
          },
          "execution_count": 23
        }
      ]
    },
    {
      "cell_type": "code",
      "metadata": {
        "id": "CoeAfM0c9yqW",
        "colab": {
          "base_uri": "https://localhost:8080/"
        },
        "outputId": "f55bf070-c743-4cdb-df48-d12bd2c3159b"
      },
      "source": [
        "# val loss\n",
        "print(\"VAL LOSS\")\n",
        "validate(network, loss_method, val_baseline_loader, do_print=True)"
      ],
      "execution_count": null,
      "outputs": [
        {
          "output_type": "stream",
          "text": [
            "VAL LOSS\n",
            "Preds 0 count | Preds 1 count | Labels 0 count | Labels 1 count\n",
            "------0------ ------13------  -------235------ ------164------\n",
            "{'accuracy': 0.8245614035087719, 'mse': 0.17543859649122806, 'f1': 0.7798742138364779}\n"
          ],
          "name": "stdout"
        },
        {
          "output_type": "execute_result",
          "data": {
            "text/plain": [
              "0.31609317660331726"
            ]
          },
          "metadata": {
            "tags": []
          },
          "execution_count": 24
        }
      ]
    },
    {
      "cell_type": "markdown",
      "metadata": {
        "id": "p9sQrNbX5LyW"
      },
      "source": [
        "#### Baseline Solution 2"
      ]
    },
    {
      "cell_type": "code",
      "metadata": {
        "id": "lXMW6306638B"
      },
      "source": [
        "def convert_year_week(year_week_str):\n",
        "    \"\"\"\n",
        "    This converts the year_week column into an index (e.g, 2020-W01 -> 0). The index\n",
        "    starts from week 1 of 2020 onwards. We convert it to an index because we want the\n",
        "    classifier to take advantage of temporal information (via an index)\n",
        "    :param: year_week_str (str) example: '2020-W01'\n",
        "    :returns: week index (int) starting from 2020\n",
        "    \"\"\"\n",
        "    year, week = year_week_str.split(\"-\")\n",
        "    return (int(year) - 2020) * 53 + int(week[1:])\n",
        "def preprocess_adaboost_df(base_df, target_col='next_week_increase_decrease', test=True):\n",
        "    \"\"\"\n",
        "    Removes the date/year_week columns, and expands the country into one-hot encoded variables.\n",
        "    Returns an input numpy array, and an output numpy array\n",
        "    :param: base_df (pd.DataFrame) base dataframe\n",
        "    :returns: x (np.ndarray) contains all input variables\n",
        "    :returns: y (np.ndarray) the target variable\n",
        "    \"\"\"\n",
        "    needed_cols = ['date', 'year_week', 'country']\n",
        "    drop_cols = needed_cols[:2]\n",
        "    targety = None\n",
        "    # handle train/test df\n",
        "    if not test:\n",
        "        needed_cols.append(target_col)\n",
        "        drop_cols.append(target_col)\n",
        "        targety = base_df[target_col].to_numpy()\n",
        "\n",
        "    for col in needed_cols:\n",
        "        assert col in base_df\n",
        "        \n",
        "    base_df['year_week_idx'] = base_df['year_week'].apply(convert_year_week)\n",
        "    adjusted_df = base_df.drop(drop_cols, axis=1)\n",
        "    adjusted_df = pd.get_dummies(adjusted_df, columns=['country'])\n",
        "\n",
        "    return adjusted_df.to_numpy(), targety"
      ],
      "execution_count": null,
      "outputs": []
    },
    {
      "cell_type": "code",
      "metadata": {
        "id": "PjLivqKZ8ADm"
      },
      "source": [
        "full_trainx, full_trainy = preprocess_adaboost_df(train_baseline_df, test=False)"
      ],
      "execution_count": null,
      "outputs": []
    },
    {
      "cell_type": "code",
      "metadata": {
        "id": "6UQlaymSE_EH",
        "colab": {
          "base_uri": "https://localhost:8080/",
          "height": 421
        },
        "outputId": "8191f752-b3ee-4e45-ca79-826802720447"
      },
      "source": [
        "from sklearn.model_selection import StratifiedKFold, KFold\n",
        "from sklearn.ensemble import AdaBoostClassifier\n",
        "\n",
        "# We utilize stratified kfold to analyze the predictive performance of our classifier\n",
        "# and to calculate which 'n_estimators' parameter to utilize in our final output\n",
        "n_estimators_param = [50, 100, 150, 200, 250, 300, 350, 400, 450, 500, 550, 600]\n",
        "\n",
        "hyperparam_dict = {x: [] for x in n_estimators_param}\n",
        "skf = StratifiedKFold(random_state=53, shuffle=True)\n",
        "for train_index, valid_index in skf.split(full_trainx, full_trainy):\n",
        "  xtrain, xvalid = full_trainx[train_index], full_trainx[valid_index]\n",
        "  ytrain, yvalid = full_trainy[train_index], full_trainy[valid_index]\n",
        "\n",
        "  # train for each possible hyperparameter and calculate validation accuracy\n",
        "  for n_estimator in n_estimators_param:\n",
        "    adaboost = AdaBoostClassifier(n_estimators=n_estimator)\n",
        "    adaboost.fit(xtrain, ytrain)\n",
        "    accuracy = accuracy_score(yvalid, adaboost.predict(xvalid))\n",
        "    hyperparam_dict[n_estimator] += [accuracy]\n",
        "    \n",
        "# create output dataframe\n",
        "hyperparam_df = pd.DataFrame.from_dict(hyperparam_dict, orient='index')\n",
        "hyperparam_df['avg'] = hyperparam_df.sum(axis=1) / 5\n",
        "hyperparam_df"
      ],
      "execution_count": null,
      "outputs": [
        {
          "output_type": "execute_result",
          "data": {
            "text/html": [
              "<div>\n",
              "<style scoped>\n",
              "    .dataframe tbody tr th:only-of-type {\n",
              "        vertical-align: middle;\n",
              "    }\n",
              "\n",
              "    .dataframe tbody tr th {\n",
              "        vertical-align: top;\n",
              "    }\n",
              "\n",
              "    .dataframe thead th {\n",
              "        text-align: right;\n",
              "    }\n",
              "</style>\n",
              "<table border=\"1\" class=\"dataframe\">\n",
              "  <thead>\n",
              "    <tr style=\"text-align: right;\">\n",
              "      <th></th>\n",
              "      <th>0</th>\n",
              "      <th>1</th>\n",
              "      <th>2</th>\n",
              "      <th>3</th>\n",
              "      <th>4</th>\n",
              "      <th>avg</th>\n",
              "    </tr>\n",
              "  </thead>\n",
              "  <tbody>\n",
              "    <tr>\n",
              "      <th>50</th>\n",
              "      <td>0.821832</td>\n",
              "      <td>0.791719</td>\n",
              "      <td>0.791719</td>\n",
              "      <td>0.804266</td>\n",
              "      <td>0.814304</td>\n",
              "      <td>0.804768</td>\n",
              "    </tr>\n",
              "    <tr>\n",
              "      <th>100</th>\n",
              "      <td>0.839398</td>\n",
              "      <td>0.821832</td>\n",
              "      <td>0.831870</td>\n",
              "      <td>0.841907</td>\n",
              "      <td>0.840652</td>\n",
              "      <td>0.835132</td>\n",
              "    </tr>\n",
              "    <tr>\n",
              "      <th>150</th>\n",
              "      <td>0.845671</td>\n",
              "      <td>0.826851</td>\n",
              "      <td>0.838143</td>\n",
              "      <td>0.856964</td>\n",
              "      <td>0.835634</td>\n",
              "      <td>0.840652</td>\n",
              "    </tr>\n",
              "    <tr>\n",
              "      <th>200</th>\n",
              "      <td>0.850690</td>\n",
              "      <td>0.848181</td>\n",
              "      <td>0.843162</td>\n",
              "      <td>0.863237</td>\n",
              "      <td>0.854454</td>\n",
              "      <td>0.851945</td>\n",
              "    </tr>\n",
              "    <tr>\n",
              "      <th>250</th>\n",
              "      <td>0.863237</td>\n",
              "      <td>0.851945</td>\n",
              "      <td>0.850690</td>\n",
              "      <td>0.873275</td>\n",
              "      <td>0.860728</td>\n",
              "      <td>0.859975</td>\n",
              "    </tr>\n",
              "    <tr>\n",
              "      <th>300</th>\n",
              "      <td>0.863237</td>\n",
              "      <td>0.848181</td>\n",
              "      <td>0.855709</td>\n",
              "      <td>0.877039</td>\n",
              "      <td>0.855709</td>\n",
              "      <td>0.859975</td>\n",
              "    </tr>\n",
              "    <tr>\n",
              "      <th>350</th>\n",
              "      <td>0.868256</td>\n",
              "      <td>0.858218</td>\n",
              "      <td>0.858218</td>\n",
              "      <td>0.879548</td>\n",
              "      <td>0.869511</td>\n",
              "      <td>0.866750</td>\n",
              "    </tr>\n",
              "    <tr>\n",
              "      <th>400</th>\n",
              "      <td>0.874529</td>\n",
              "      <td>0.863237</td>\n",
              "      <td>0.853199</td>\n",
              "      <td>0.880803</td>\n",
              "      <td>0.870765</td>\n",
              "      <td>0.868507</td>\n",
              "    </tr>\n",
              "    <tr>\n",
              "      <th>450</th>\n",
              "      <td>0.870765</td>\n",
              "      <td>0.872020</td>\n",
              "      <td>0.860728</td>\n",
              "      <td>0.885822</td>\n",
              "      <td>0.869511</td>\n",
              "      <td>0.871769</td>\n",
              "    </tr>\n",
              "    <tr>\n",
              "      <th>500</th>\n",
              "      <td>0.872020</td>\n",
              "      <td>0.868256</td>\n",
              "      <td>0.861982</td>\n",
              "      <td>0.884567</td>\n",
              "      <td>0.875784</td>\n",
              "      <td>0.872522</td>\n",
              "    </tr>\n",
              "    <tr>\n",
              "      <th>550</th>\n",
              "      <td>0.875784</td>\n",
              "      <td>0.869511</td>\n",
              "      <td>0.867001</td>\n",
              "      <td>0.889586</td>\n",
              "      <td>0.870765</td>\n",
              "      <td>0.874529</td>\n",
              "    </tr>\n",
              "    <tr>\n",
              "      <th>600</th>\n",
              "      <td>0.874529</td>\n",
              "      <td>0.869511</td>\n",
              "      <td>0.869511</td>\n",
              "      <td>0.890841</td>\n",
              "      <td>0.877039</td>\n",
              "      <td>0.876286</td>\n",
              "    </tr>\n",
              "  </tbody>\n",
              "</table>\n",
              "</div>"
            ],
            "text/plain": [
              "            0         1         2         3         4       avg\n",
              "50   0.821832  0.791719  0.791719  0.804266  0.814304  0.804768\n",
              "100  0.839398  0.821832  0.831870  0.841907  0.840652  0.835132\n",
              "150  0.845671  0.826851  0.838143  0.856964  0.835634  0.840652\n",
              "200  0.850690  0.848181  0.843162  0.863237  0.854454  0.851945\n",
              "250  0.863237  0.851945  0.850690  0.873275  0.860728  0.859975\n",
              "300  0.863237  0.848181  0.855709  0.877039  0.855709  0.859975\n",
              "350  0.868256  0.858218  0.858218  0.879548  0.869511  0.866750\n",
              "400  0.874529  0.863237  0.853199  0.880803  0.870765  0.868507\n",
              "450  0.870765  0.872020  0.860728  0.885822  0.869511  0.871769\n",
              "500  0.872020  0.868256  0.861982  0.884567  0.875784  0.872522\n",
              "550  0.875784  0.869511  0.867001  0.889586  0.870765  0.874529\n",
              "600  0.874529  0.869511  0.869511  0.890841  0.877039  0.876286"
            ]
          },
          "metadata": {
            "tags": []
          },
          "execution_count": 27
        }
      ]
    },
    {
      "cell_type": "code",
      "metadata": {
        "id": "0JX1uRuJPl9Y",
        "colab": {
          "base_uri": "https://localhost:8080/",
          "height": 622
        },
        "outputId": "363421c8-fc39-4934-d9e5-650f9c10c1b5"
      },
      "source": [
        "import matplotlib.pyplot as plt\n",
        "\n",
        "plt.figure(figsize=(10, 10))\n",
        "plt.title(\"Hyperparameter Tuning (n_estimators) w/5-fold stratified CV\")\n",
        "plt.xlabel(\"N_estimators\")\n",
        "plt.ylabel(\"Validation Accuracy\")\n",
        "plt.boxplot(hyperparam_df.iloc[:, :-1], positions=hyperparam_df.index, widths=25)\n",
        "plt.show()"
      ],
      "execution_count": null,
      "outputs": [
        {
          "output_type": "display_data",
          "data": {
            "image/png": "[encoded data removed]",
            "text/plain": [
              "<Figure size 720x720 with 1 Axes>"
            ]
          },
          "metadata": {
            "tags": [],
            "needs_background": "light"
          }
        }
      ]
    },
    {
      "cell_type": "code",
      "metadata": {
        "id": "xDbps6SbQkGY"
      },
      "source": [
        "def save_output(test_df, test_pred, fn=f'{dir_path}/preds/adaboost_take3.csv'):\n",
        "    \"\"\"\n",
        "    Helper function that saves the output dataframe to a user-defined location\n",
        "    :param: test_df (pd.DataFrame) dataframe of the test-set\n",
        "    :param: test_pred (np.ndarray) the prediction made by the AdaBoost Classifier\n",
        "    :param: fn (str) filename of the output dataframe\n",
        "    \"\"\"\n",
        "    country_id = test_df['country'] + ' ' + test_df['date']\n",
        "    output_df = pd.DataFrame({'country_id': country_id, 'next_week_increase_decrease': test_pred})\n",
        "    output_df.set_index('country_id').to_csv(fn)\n",
        "\n",
        "def train_fullmodel(n_estimators, full_trainx, full_trainy, test_baseline_df, \\\n",
        "                    fn=f'{dir_path}/preds/adaboost_take3.csv'):\n",
        "    \"\"\"\n",
        "    After hyperparameter tuning, this function trains the AdaBoostClassifier with\n",
        "    the best n_estimators value on the full dataset. The predictions are saved\n",
        "    to a user-defined location\n",
        "    :param: n_estimators (int) number of estimators utilized in AdaBoost\n",
        "    :param: full_trainx (np.ndarray) input array of the full dataset\n",
        "    :param: full_trainy (np.ndarray) output array of the full dataset\n",
        "    :param: test_baseline_df (pd.DataFrame) dataframe of full dataset\n",
        "    :param: fn (str) filename of the prediction output\n",
        "    \"\"\"\n",
        "    adaboost = AdaBoostClassifier(n_estimators=n_estimators)\n",
        "    adaboost.fit(full_trainx, full_trainy)\n",
        "\n",
        "    testx, testy = preprocess_adaboost_df(test_baseline_df, test=True)\n",
        "    test_pred = adaboost.predict(testx)\n",
        "\n",
        "    save_output(test_baseline_df, test_pred, fn=fn)\n",
        "  "
      ],
      "execution_count": null,
      "outputs": []
    },
    {
      "cell_type": "code",
      "metadata": {
        "id": "uF6HrVgYRUPt"
      },
      "source": [
        "train_fullmodel(600, full_trainx, full_trainy, test_baseline_df, fn=f'{dir_path}/preds/adaboost_test.csv')"
      ],
      "execution_count": null,
      "outputs": []
    },
    {
      "cell_type": "markdown",
      "metadata": {
        "id": "DpqiZpTWYIVQ"
      },
      "source": [
        "<h3>2.4 Explanation in Words:</h3><p>\n",
        "    You need to answer the following questions in the markdown cell after this cell:"
      ]
    },
    {
      "cell_type": "markdown",
      "metadata": {
        "id": "HXf0pemLYIVQ"
      },
      "source": [
        "2.4.1 How did you preprocess the dataset and features, and how did you formulate the learning problem (or problems)?\n",
        "\n",
        "**AdaBoost**: for the adaboost classifier, we removed the date column simply because it was a unique identifier for each row, which would allow the model to overfit easily. Instead, we utilized the year_week column, which we convert into an index (the `2020-W01` -> 0, `2020-W02` -> 1). The index allows the model to reason temporally because the weeks are inherently ordered, so utiling an index allows the model to utilize temporal information. Lastly, we converted the country column into a one-hot encoded version, simply because the `sklearn.models.AdaBoostClassifier` requires numeric values and countries don't have any inherent ordering. We note that decision trees are invariant to the scale of the features, so we don't scale the features for the Adaboost Learner.\n",
        "\n",
        "**Neural Network**: for the neural network, the scale of the features does affect convergence, so we do scale some features. We also utilize an index (but scaled utilizing min-max scaling), we one-hot encode the country, and then we standard scale all the other columns. Just as we did for the AdaBoost, we removed the date column and converted the year_week columninto an index (the `2020-W01` -> 0, `2020-W02` -> 1)\n",
        "\n",
        "The learning problem was simply formulated as a classification problem to utilize the features provided to predict whether or not the future week will have more or less hospitalizations.\n",
        "\n",
        "2.4.2 Which two learning methods from class did you choose and why did you made the choices?\n",
        "\n",
        "We chose **AdaBoost** because in practice AdaBoost/XGBoost tends to predict well with tabular data (as seen by the popularity of these approaches in Kaggle competitions). Because the data was formulated as a table with counts, we adopted to try AdaBoost to see if this relatively simple model can adequately predict for this particular task.\n",
        "\n",
        "We chose **Neural Networks** because it's a popular algorithm for classification, and tends to work well in practice as long as there's sufficient data. \n",
        "\n",
        "2.4.3 How did you do the model selection?\n",
        "\n",
        "For the **AdaBoost** model, we performed stratified k-fold validation and utilized the accuracy metric on the validation set. We perform this test for all hyperparameters we were interested in (`n_estimators`), and chose the hyperparameters that led to the highest average accuracy score to deal with overfitting. Then, we utilized the best set of hyperparameters, fit the model on the entire dataset, and then utilized that model for our final prediction.\n",
        "\n",
        "For the **Neural Network** model, we did a simple training/validation split. We tested different neural networks with different number of hidden layers and different number of neurons in the hidden layers. We plotted training and validation error across the number of epochs (learning curves). We used these learning curvess to asssess whether we were underfitting or overfitting. In the case of overfitting, we increased dropout/reduced the expressability of the neural net and in case of underfitting, we added more layers/ more neurons to the layers in the neural network. We also used the train and validation curves to decide when to stop training without overfitting (early stopping).\n",
        "\n",
        "\n",
        "2.4.4 Does the test performance reach a given baseline 70% performance? (Please include a screenshot of Kaggle Submission)\n",
        "\n",
        "Yes, we did\n",
        "\n",
        "![Screen Shot 2021-05-14 at 10.13.49 PM.png](data:image/png;base64,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)\n"
      ]
    },
    {
      "cell_type": "markdown",
      "metadata": {
        "id": "rPzQZJgEYIVR"
      },
      "source": [
        "<h2>Part 3: Creative Solution</h2><p>"
      ]
    },
    {
      "cell_type": "markdown",
      "metadata": {
        "id": "E3tHWZpoYIVR"
      },
      "source": [
        "<h3>3.1 Open-ended Code:</h3><p>\n",
        "You may follow the steps in part 2 again but making innovative changes like creating/using new features, using new training algorithms, etc. Make sure you explain everything clearly in part 3.2. Note that reaching the 150k MSE creative baseline is only a small portion of this part. Any creative ideas will receive most points as long as they are reasonable and clearly explained."
      ]
    },
    {
      "cell_type": "markdown",
      "metadata": {
        "id": "cswjbiETj8Xk"
      },
      "source": [
        "# Load the creative data"
      ]
    },
    {
      "cell_type": "code",
      "metadata": {
        "id": "MB-XZ9qGZMei"
      },
      "source": [
        "# pytorch mlp for regression\n",
        "from numpy import vstack\n",
        "from numpy import sqrt\n",
        "from pandas import read_csv\n",
        "from sklearn.metrics import mean_squared_error\n",
        "from torch.utils.data import Dataset\n",
        "from torch.utils.data import DataLoader\n",
        "from torch.utils.data import random_split\n",
        "from torch import Tensor\n",
        "from torch.nn import Linear\n",
        "from torch.nn import Sigmoid\n",
        "from torch.nn import Module\n",
        "from torch.optim import SGD\n",
        "from torch.nn import MSELoss\n",
        "from torch.nn.init import xavier_uniform_\n",
        "import torch\n",
        "from torch.autograd import Variable\n",
        "import torch.nn.functional as F\n",
        "import torch.utils.data as Data\n",
        "\n",
        "import matplotlib.pyplot as plt\n",
        "from sklearn.preprocessing import StandardScaler\n",
        "%matplotlib inline\n",
        "\n",
        "import numpy as np\n",
        "import imageio"
      ],
      "execution_count": null,
      "outputs": []
    },
    {
      "cell_type": "code",
      "metadata": {
        "id": "jf8hhkW7kBtG"
      },
      "source": [
        "dataset_path = \"/content/drive/MyDrive/cs4780_project/train_creative.csv\"\n",
        "train_creative_df = pd.read_csv(dataset_path, sep=',', encoding='unicode_escape')\n",
        "\n",
        "dataset_path = \"/content/drive/MyDrive/cs4780_project/train_baseline.csv\"\n",
        "train_baseline_df = pd.read_csv(dataset_path, sep=',', encoding='unicode_escape')\n",
        "\n",
        "dataset_path = \"/content/drive/MyDrive/cs4780_project/train_creative_t_values.csv\"\n",
        "train_creative_t_df = pd.read_csv(dataset_path, sep=',', encoding='unicode_escape')\n",
        "\n",
        "dataset_path = \"/content/drive/MyDrive/cs4780_project/test_creative_t_values.csv\"\n",
        "test_creative_t_df = pd.read_csv(dataset_path, sep=',', encoding='unicode_escape')\n",
        "\n",
        "dataset_path = \"/content/drive/MyDrive/cs4780_project/test_creative_no_label.csv\"\n",
        "test_creative_no_label_df = pd.read_csv(dataset_path, sep=',', encoding='unicode_escape')\n"
      ],
      "execution_count": null,
      "outputs": []
    },
    {
      "cell_type": "code",
      "metadata": {
        "id": "Z-nQRFl_XK1M"
      },
      "source": [
        "train_creative_raw = train_creative_df.to_numpy()\n",
        "test_creative_raw = test_creative_no_label_df.to_numpy()\n",
        "test_creative_t_raw = test_creative_t_df.to_numpy()\n",
        "train_creative_t_raw = train_creative_t_df.to_numpy()"
      ],
      "execution_count": null,
      "outputs": []
    },
    {
      "cell_type": "code",
      "metadata": {
        "id": "Hufi4_RNeGy_"
      },
      "source": [
        "sscaler = StandardScaler()\n",
        "train_creative_raw[:, 3:10] = sscaler.fit_transform(train_creative_raw[:, 3:10])\n",
        "test_creative_raw[:, 3:10] = sscaler.transform(test_creative_raw[:, 3:10])\n",
        "\n",
        "sscaler = StandardScaler()\n",
        "train_creative_t_raw[:, 3:54] = sscaler.fit_transform(train_creative_t_raw[:, 3:54])\n",
        "test_creative_t_raw[:, 3:54] = sscaler.transform(test_creative_t_raw[:, 3:54])"
      ],
      "execution_count": null,
      "outputs": []
    },
    {
      "cell_type": "code",
      "metadata": {
        "id": "g5wfBxVpIt1X"
      },
      "source": [
        "def get_new_weighted_feature(creative_t_raw, beta, k):\n",
        "    \"\"\"\n",
        "    Computes an exponentially weighted t-value utilizing a given beta\n",
        "    :param: creative_t_raw (np.ndarray) contains t-value dataframe\n",
        "    :param: beta (float) beta for exponentially weighting\n",
        "    :param: k (int) range that we are considering\n",
        "    :returns: np.ndarray of the exponentially weighted \n",
        "    \"\"\"\n",
        "\n",
        "    beta_arr = np.array([beta**i for i in range(1,k+1)])\n",
        "    weighted_averages = np.sum(creative_t_raw[:, 4:4+k] * beta_arr, axis=1)\n",
        "\n",
        "    rows_with_missing_data = np.any(creative_t_raw[:, 4:4+k] == 0, axis=1)\n",
        "    rows_with_no_missing_data = np.logical_not(rows_with_missing_data)\n",
        "\n",
        "    original = creative_t_raw[:, 3]\n",
        "    result = original * rows_with_missing_data + weighted_averages * rows_with_no_missing_data\n",
        "\n",
        "    return np.atleast_2d(result).T"
      ],
      "execution_count": null,
      "outputs": []
    },
    {
      "cell_type": "code",
      "metadata": {
        "id": "b-c5z2fSm8HP"
      },
      "source": [
        "class Creative_Dataset(torch.utils.data.Dataset):\n",
        "    'Characterizes a  Creative dataset for PyTorch'\n",
        "    def __init__(self, creative_raw, creative_t, geo_avg_feature, is_test):\n",
        "        \"\"\"\n",
        "        Initializes the dataset object\n",
        "        :param: creative_raw (np.ndarray) contains the creative data\n",
        "        :param: creative_t (np.ndarray) contains the t-dataframe\n",
        "        :param: geo_avg_feature (np.ndarray) contains the average of geographic cts\n",
        "        :param: is_test (bool) true/false to indicate whether it's the test set\n",
        "        \"\"\"\n",
        "        self.creative_raw = creative_raw\n",
        "        self.is_test = is_test\n",
        "        self.creative_t=creative_t\n",
        "        self.geo_avg_feature = geo_avg_feature\n",
        "\n",
        "\n",
        "    def __len__(self):\n",
        "        \"\"\"\n",
        "        Denotes the total number of samples\n",
        "        :returns: length of dataset\n",
        "        \"\"\"\n",
        "        return len(self.creative_raw)\n",
        "\n",
        "    def __getitem__(self, idx):\n",
        "        \"\"\"\n",
        "        Generates one sample of the data (indexed by idx)\n",
        "        :param: idx (int) index of data we are returning\n",
        "        :returns: X (np.ndarray) input to neural network\n",
        "        :returns: y (np.ndarray) output to neural network\n",
        "        \"\"\"\n",
        "\n",
        "        if not self.is_test:\n",
        "            X_raw = self.creative_raw[idx,:-1]\n",
        "        else:\n",
        "            X_raw = self.creative_raw[idx]\n",
        "\n",
        "        country, date, year_week, daily_hospital_occupancy,\\\n",
        "        under_15_cases, x15_24_cases, x25_49_cases, x50_64_cases,\\\n",
        "        x65_79_cases, over_80_cases = X_raw\n",
        "        country_num = torch.tensor(COUNTRIES.get(country, 0))\n",
        "        \n",
        "        # computes t values and the ohc version of the country\n",
        "        country_ohc = F.one_hot(country_num, num_classes=len(COUNTRIES))\n",
        "        t_1=self.creative_t[idx][4]\n",
        "        if (t_1==0):\n",
        "            t_1=self.creative_t[idx][3]\n",
        "        t_2=self.creative_t[idx][5]\n",
        "        if (t_2==0):\n",
        "            t_2= self.creative_t[idx][3]\n",
        "        t_3=self.creative_t[idx][6]\n",
        "        if (t_3==0):\n",
        "            t_3= self.creative_t[idx][3]\n",
        "\n",
        "        geo_avg_feature = self.geo_avg_feature[idx]\n",
        "\n",
        "        # concatenate all the features together\n",
        "        X = torch.tensor([convert_year_week(year_week)/66,\n",
        "             daily_hospital_occupancy, under_15_cases, x15_24_cases, \n",
        "             x25_49_cases, x50_64_cases, x65_79_cases, over_80_cases, t_1, t_2, geo_avg_feature])#,rolling_avg,t_1,t_2])\n",
        "\n",
        "        X = torch.cat((country_ohc, X))\n",
        "        \n",
        "\n",
        "        if not self.is_test:\n",
        "            y = self.creative_raw[idx,-1]\n",
        "            return X.float(), torch.tensor(y).float()\n",
        "          \n",
        "        return X.float()"
      ],
      "execution_count": null,
      "outputs": []
    },
    {
      "cell_type": "code",
      "metadata": {
        "id": "p-8S9ksaxUUA"
      },
      "source": [
        "class MLP(nn.Module):\n",
        "    def __init__(self, input_length):\n",
        "        \"\"\"\n",
        "        Initializes the neural network linear layers\n",
        "        :param: input_length (int) the dimension of the input\n",
        "        \"\"\"\n",
        "        super(MLP, self).__init__()\n",
        "        self.layer1 = nn.Linear(input_length, 256)\n",
        "        self.layer1b = nn.Linear(256,128)\n",
        "\n",
        "        self.layer2 = nn.Linear(128, 1)\n",
        "        self.dropout = nn.Dropout(0.5)\n",
        "      \n",
        "    def forward(self, x):\n",
        "        \"\"\"\n",
        "        Computes forward pass of neural network\n",
        "        :param: x (torch.Tensor) of the input\n",
        "        :returns: y (torch.Tensor) the output of the NN\n",
        "        \"\"\"\n",
        "        out = self.dropout(x)\n",
        "        out = self.layer1(out)\n",
        "        out = F.relu(out)\n",
        "\n",
        "        out = self.dropout(out)\n",
        "        out = self.layer1b(out)\n",
        "        out = F.relu(out)\n",
        "\n",
        "        out = self.dropout(out)\n",
        "        out = self.layer2(out)  \n",
        "        return out"
      ],
      "execution_count": null,
      "outputs": []
    },
    {
      "cell_type": "code",
      "metadata": {
        "id": "zuzXfJzWpg33"
      },
      "source": [
        "def print_grads(net):\n",
        "    \"\"\"\n",
        "    Prints gradients of neural network\n",
        "    :param: net (nn.Module) the neural network\n",
        "    \"\"\"\n",
        "    for name, param in net.named_parameters():\n",
        "        print(name, param.grad)"
      ],
      "execution_count": null,
      "outputs": []
    },
    {
      "cell_type": "code",
      "metadata": {
        "id": "-M3dsiADsuB0"
      },
      "source": [
        "def train(network, train_loader, val_loader, loss_method, optimizer, \\\n",
        "          num_epochs=30, log_interval=300):\n",
        "    \"\"\"\n",
        "    Trains the neural network (and evaluates on the validation dataset)\n",
        "    :param: network (torch.nn.Module) created above\n",
        "    :param: train_loader (torch.Dataset) for the training set\n",
        "    :param: val_loader (torch.Dataset) for the validation set\n",
        "    :param: loss_method (torch.loss) loss function for the neural network\n",
        "    :param: optimizer (torch.optimizer) optimizer (we use adam/sgd)\n",
        "    :param: path_prepend (str) path to where we save neural networks\n",
        "    :param: num_epochs (int) number of epochs to train\n",
        "    :returns: train_losses (list of float) list of training losses (through epochs)\n",
        "    :returns: val_losses (list of float) list of validation losses (through epochs)\n",
        "    \"\"\"\n",
        "    network.train()\n",
        "    train_losses, val_losses = [], []\n",
        "    for epoch in tq.tqdm(range(num_epochs)):\n",
        "        epoch_loss = 0\n",
        "        for batch_idx, (X, y) in enumerate(train_loader):\n",
        "            optimizer.zero_grad()\n",
        "            output = network(X)\n",
        "\n",
        "            # computes loss and optimize\n",
        "            loss = loss_method(output.flatten(), y)\n",
        "            epoch_loss += loss.item() \n",
        "            loss.backward()\n",
        "            nn.utils.clip_grad_norm_(network.parameters(), 1.0)\n",
        "            \n",
        "            optimizer.step()\n",
        "\n",
        "        train_losses.append(epoch_loss/len(train_loader))\n",
        "        val_loss = validate(network, loss_method, val_loader)\n",
        "        val_losses.append(val_loss)\n",
        "\n",
        "    return train_losses, val_losses"
      ],
      "execution_count": null,
      "outputs": []
    },
    {
      "cell_type": "code",
      "metadata": {
        "id": "1iAs4Fon6Qi-",
        "colab": {
          "base_uri": "https://localhost:8080/",
          "height": 66,
          "referenced_widgets": [
            "d9547170f49848318692b1ab7677e6e7",
            "9d643d0e6d1f4b73878adc3a8c0f1dbf",
            "769e073d45bd4049bc0954f40f957dd0",
            "9e440386157f4d8aa34b2a3d38d1479f",
            "e3bb355d75534a8399982dd19f5b1019",
            "8f40c31d5c8d4dc4a722d3cf8c7e40b1",
            "db1c5eb19a0b412786a8e096cd7dfffc",
            "990c85754aa64344ad51d167a4fd8468"
          ]
        },
        "outputId": "6e4aac4c-5214-4910-d44f-7bda7dd00bda"
      },
      "source": [
        "batch_size = 64\n",
        "learning_rate = 1e-2\n",
        "momentum = 0.9\n",
        "\n",
        "num_epochs = 100\n",
        "k_for_geo_avg = 10\n",
        "beta = 0.5\n",
        "\n",
        "# scale the new feature #######\n",
        "train_geo_avg_feature = get_new_weighted_feature(train_creative_t_raw, beta=beta, k=k_for_geo_avg)\n",
        "test_geo_avg_feature = get_new_weighted_feature(test_creative_t_raw, beta=beta, k=k_for_geo_avg)\n",
        "\n",
        "sscaler = StandardScaler()\n",
        "train_geo_avg_feature = sscaler.fit_transform(train_geo_avg_feature)\n",
        "test_geo_avg_feature = sscaler.transform(test_geo_avg_feature)\n",
        "###############################\n",
        "\n",
        "#make the dataset and loaders\n",
        "train_split = int(0.9 * len(train_creative_raw))\n",
        "val_split = len(train_creative_raw) - train_split\n",
        "train_creative_dataset = Creative_Dataset(train_creative_raw, train_creative_t_raw, train_geo_avg_feature, False)\n",
        "test_creative_dataset = Creative_Dataset(test_creative_raw, test_creative_t_raw, test_geo_avg_feature, True)\n",
        "train_creative_raw_split, val_creative_raw_split = torch.utils.data.random_split(train_creative_dataset, [train_split, val_split])\n",
        "\n",
        "\n",
        "input_length = len(train_creative_dataset[0][0])\n",
        "\n",
        "train_creative_loader = DataLoader(train_creative_raw_split, batch_size=batch_size)\n",
        "val_creative_loader = DataLoader(val_creative_raw_split, batch_size=batch_size)\n",
        "test_creative_loader = DataLoader(test_creative_dataset, batch_size=batch_size)\n",
        "###########################\n",
        "\n",
        "#run the network\n",
        "net_2 = MLP(input_length)\n",
        "optimizer = optim.SGD(net_2.parameters(), lr=learning_rate, momentum=momentum)\n",
        "loss_method = nn.MSELoss()\n",
        "train_losses, val_losses = train(net_2, train_creative_loader, val_creative_loader, loss_method, optimizer,num_epochs)"
      ],
      "execution_count": null,
      "outputs": [
        {
          "output_type": "display_data",
          "data": {
            "application/vnd.jupyter.widget-view+json": {
              "model_id": "d9547170f49848318692b1ab7677e6e7",
              "version_minor": 0,
              "version_major": 2
            },
            "text/plain": [
              "HBox(children=(FloatProgress(value=0.0), HTML(value='')))"
            ]
          },
          "metadata": {
            "tags": []
          }
        },
        {
          "output_type": "stream",
          "text": [
            "\n"
          ],
          "name": "stdout"
        }
      ]
    },
    {
      "cell_type": "code",
      "metadata": {
        "colab": {
          "base_uri": "https://localhost:8080/",
          "height": 66,
          "referenced_widgets": [
            "8a8e550f03304f1881f30dea7c9f1297",
            "393cdf1b6e0a4fce8b1c1353ad474775",
            "8bad89d1ac74436ea47a635efbde0599",
            "095321abf4074298a199aab83c7bf159",
            "f29999b632a447c6a190122169626aa7",
            "bc6428902fe345039b3b89f91ef11c76",
            "5ee92e41cdd947bdbb094a60b11088c1",
            "ea78557328364ab1808e9d5a75ee996e"
          ]
        },
        "id": "eNwZcFT7yoM1",
        "outputId": "336d119d-bf4b-45be-f66f-24f129aff394"
      },
      "source": [
        "train_losses, val_losses = train(net_2, train_creative_loader, val_creative_loader, loss_method, optimizer,100)"
      ],
      "execution_count": null,
      "outputs": [
        {
          "output_type": "display_data",
          "data": {
            "application/vnd.jupyter.widget-view+json": {
              "model_id": "8a8e550f03304f1881f30dea7c9f1297",
              "version_minor": 0,
              "version_major": 2
            },
            "text/plain": [
              "HBox(children=(FloatProgress(value=0.0), HTML(value='')))"
            ]
          },
          "metadata": {
            "tags": []
          }
        },
        {
          "output_type": "stream",
          "text": [
            "\n"
          ],
          "name": "stdout"
        }
      ]
    },
    {
      "cell_type": "code",
      "metadata": {
        "colab": {
          "base_uri": "https://localhost:8080/",
          "height": 290
        },
        "id": "LglL0cielwyN",
        "outputId": "0e60e37d-9620-4204-d123-8922a42cf328"
      },
      "source": [
        "plot_learning_curves(list(range(len(train_losses))), train_losses, val_losses)"
      ],
      "execution_count": null,
      "outputs": [
        {
          "output_type": "display_data",
          "data": {
            "image/png": "[encoded data removed]",
            "text/plain": [
              "<Figure size 432x288 with 1 Axes>"
            ]
          },
          "metadata": {
            "tags": [],
            "needs_background": "light"
          }
        }
      ]
    },
    {
      "cell_type": "code",
      "metadata": {
        "colab": {
          "base_uri": "https://localhost:8080/"
        },
        "id": "g5dhCB4Sz1lE",
        "outputId": "99b6bd89-5edf-46dc-bf8d-ca9c07c1d821"
      },
      "source": [
        "# K IS 10\n",
        "validate(net_2, loss_method, val_creative_loader, do_print=True)"
      ],
      "execution_count": null,
      "outputs": [
        {
          "output_type": "stream",
          "text": [
            "Preds 0 count | Preds 1 count | Labels 0 count | Labels 1 count\n",
            "------0------ ------0------  -------11------ ------5------\n",
            "{'accuracy': 0.007518796992481203, 'mse': 120222.34837092731, 'f1': 0.007518796992481203}\n"
          ],
          "name": "stdout"
        },
        {
          "output_type": "execute_result",
          "data": {
            "text/plain": [
              "120237.5703125"
            ]
          },
          "metadata": {
            "tags": []
          },
          "execution_count": 98
        }
      ]
    },
    {
      "cell_type": "code",
      "metadata": {
        "colab": {
          "base_uri": "https://localhost:8080/"
        },
        "id": "LGe8CivficYn",
        "outputId": "f9a81a29-63c3-4e6d-f023-2778f4f7b58d"
      },
      "source": [
        "# K IS 10 beta is 0.9\n",
        "validate(net_2, loss_method, val_creative_loader, do_print=True)"
      ],
      "execution_count": null,
      "outputs": [
        {
          "output_type": "stream",
          "text": [
            "Preds 0 count | Preds 1 count | Labels 0 count | Labels 1 count\n",
            "------0------ ------0------  -------17------ ------6------\n",
            "{'accuracy': 0.02506265664160401, 'mse': 133847.2180451128, 'f1': 0.02506265664160401}\n"
          ],
          "name": "stdout"
        },
        {
          "output_type": "execute_result",
          "data": {
            "text/plain": [
              "133851.515625"
            ]
          },
          "metadata": {
            "tags": []
          },
          "execution_count": 101
        }
      ]
    },
    {
      "cell_type": "code",
      "metadata": {
        "colab": {
          "base_uri": "https://localhost:8080/"
        },
        "id": "CkZ399IGzkhG",
        "outputId": "ec7eaf6b-79c9-48e9-b386-fb4380d9bbfc"
      },
      "source": [
        "# K IS 10 beta is 0.9 dropout is 0.5\n",
        "validate(net_2, loss_method, val_creative_loader, do_print=True)"
      ],
      "execution_count": null,
      "outputs": [
        {
          "output_type": "stream",
          "text": [
            "Preds 0 count | Preds 1 count | Labels 0 count | Labels 1 count\n",
            "------0------ ------0------  -------8------ ------2------\n",
            "{'accuracy': 0.005012531328320802, 'mse': 154074.64160401002, 'f1': 0.005012531328320802}\n"
          ],
          "name": "stdout"
        },
        {
          "output_type": "execute_result",
          "data": {
            "text/plain": [
              "154078.5625"
            ]
          },
          "metadata": {
            "tags": []
          },
          "execution_count": 146
        }
      ]
    },
    {
      "cell_type": "code",
      "metadata": {
        "colab": {
          "base_uri": "https://localhost:8080/"
        },
        "id": "gTQLcyj2zSAI",
        "outputId": "96c0df31-e2f0-4800-a1f8-96443dee824c"
      },
      "source": [
        "# K IS 10 beta is 0.9\n",
        "validate(net_2, loss_method, val_creative_loader, do_print=True)"
      ],
      "execution_count": null,
      "outputs": [
        {
          "output_type": "stream",
          "text": [
            "Preds 0 count | Preds 1 count | Labels 0 count | Labels 1 count\n",
            "------0------ ------0------  -------19------ ------6------\n",
            "{'accuracy': 0.017543859649122806, 'mse': 57857.203007518794, 'f1': 0.017543859649122806}\n"
          ],
          "name": "stdout"
        },
        {
          "output_type": "execute_result",
          "data": {
            "text/plain": [
              "57854.53125"
            ]
          },
          "metadata": {
            "tags": []
          },
          "execution_count": 158
        }
      ]
    },
    {
      "cell_type": "code",
      "metadata": {
        "colab": {
          "base_uri": "https://localhost:8080/",
          "height": 279
        },
        "id": "AM6Xd91xlXRE",
        "outputId": "3d324e6e-a80e-4a48-c3d1-15583eb880e2"
      },
      "source": [
        "# K IS 10 beta is 0.9\n",
        "plot_learning_curves(list(range(25, len(train_losses))), train_losses[25:], val_losses[25:])"
      ],
      "execution_count": null,
      "outputs": [
        {
          "output_type": "display_data",
          "data": {
            "image/png": "[encoded data removed]",
            "text/plain": [
              "<Figure size 432x288 with 1 Axes>"
            ]
          },
          "metadata": {
            "tags": [],
            "needs_background": "light"
          }
        }
      ]
    },
    {
      "cell_type": "code",
      "metadata": {
        "colab": {
          "base_uri": "https://localhost:8080/",
          "height": 279
        },
        "id": "kVm6ZsNwmCL6",
        "outputId": "c21516d7-1ea0-4c03-bea9-f4e120a23cba"
      },
      "source": [
        "# K IS 10. beta is 0.9 dropout is 0.5\n",
        "plot_learning_curves(list(range(25, len(train_losses))), train_losses[25:], val_losses[25:])"
      ],
      "execution_count": null,
      "outputs": [
        {
          "output_type": "display_data",
          "data": {
            "image/png": "[encoded data removed]",
            "text/plain": [
              "<Figure size 432x288 with 1 Axes>"
            ]
          },
          "metadata": {
            "tags": [],
            "needs_background": "light"
          }
        }
      ]
    },
    {
      "cell_type": "code",
      "metadata": {
        "colab": {
          "base_uri": "https://localhost:8080/",
          "height": 66,
          "referenced_widgets": [
            "5ad92bbad09e4fa3bf9f680ab612076e",
            "220de4681c6640128f9aa593d7b254b5",
            "a59705df2e97431b9d9f990672c609e5",
            "c277b1d99ad84ca08fc486d394dc0d3e",
            "17fe4a14cf87467e8129ffd9fc86bc69",
            "2a5f94e3c6b04c9997d26a6eb27a922c",
            "9e65eeb616dd4ebf89780198c2aa0e61",
            "7cebf1655c2c47c7b3425cd4002d5837"
          ]
        },
        "id": "Qii8_W6ZcELW",
        "outputId": "1cfacc02-78c7-4c6a-df92-4982473ddf37"
      },
      "source": [
        "num_epochs = 50\n",
        "train_losses, val_losses = train(net_2, train_creative_loader, val_creative_loader, loss_method, optimizer,num_epochs)"
      ],
      "execution_count": null,
      "outputs": [
        {
          "output_type": "display_data",
          "data": {
            "application/vnd.jupyter.widget-view+json": {
              "model_id": "5ad92bbad09e4fa3bf9f680ab612076e",
              "version_minor": 0,
              "version_major": 2
            },
            "text/plain": [
              "HBox(children=(FloatProgress(value=0.0, max=50.0), HTML(value='')))"
            ]
          },
          "metadata": {
            "tags": []
          }
        },
        {
          "output_type": "stream",
          "text": [
            "\n"
          ],
          "name": "stdout"
        }
      ]
    },
    {
      "cell_type": "markdown",
      "metadata": {
        "id": "sAyDonT8YIVT"
      },
      "source": [
        "<h3>3.2 Explanation in Words:</h3><p>"
      ]
    },
    {
      "cell_type": "markdown",
      "metadata": {
        "id": "ZsehRE72YIVT"
      },
      "source": [
        "You need to answer the following questions in a markdown cell after this cell:\n",
        "\n",
        "3.2.1 How much did you manage to impssssssssssssssssssssssssssssssssssssssssssrove performance on the test set? Did you reach the 150k MSE for the test in Kaggle? (Please include a screenshot of Kaggle Submission)\n",
        "\n",
        "We reached a 91809 MSE( 91k MSE) on the test set. Yes we reached the 150k MSE for the test in Kaggle.\n",
        "Here is a screenshot of our submission.\n",
        "\n",
        "![Screenshot 2021-05-13 at 6.57.47 PM.png](data:image/png;base64,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)\n",
        "\n",
        "3.2.2 Please explain in detail how you achieved this and what you did specifically and why you tried this.\n",
        "\n",
        "\n",
        "\n",
        "\n"
      ]
    },
    {
      "cell_type": "markdown",
      "metadata": {
        "id": "agmBtyGi-MFj"
      },
      "source": [
        "We acheived this by using several strategies:\n",
        "\n",
        "##1. Feature Engineering:\n",
        "   We used a weighted rolling average of k t-values with weights B = [b, b^2, ..., b^k] . where b < 1. (b is referred to as beta in the code).\n",
        "   For any row in the dataset with non-0 t_values T = [t_1, ..., t_k], our weighted average feature w = B * transpose(T) = t_1*b + t_2*b^2 + t_3*b^3 +...+ t_k*b^k.\n",
        "\n",
        "   In the case of 0 t-values W = daily_hospital_occupancy for that day. We did this to minmize noise from missing t-values data in our dataset.\n",
        "   \n",
        "   The intution behind that was that the past daily hospitalisation rates in a country would affect the future daily hospitalisation rates in a country. The average was weighted because t-values closer to the present date are more important for the current prediction than hospitalizations further from the present date. We started with a normal rolling average which did not perform well, so we switched to a weighted rolling average instead.\n",
        "\n",
        "\n",
        "##2. Feature Preprocesing and Normalisation:\n",
        "\n",
        "We faced exploding gradients which we solved using gradient clipping.\n",
        "We also had to normalise all our features including the W feature we engineered to make sure that the neural network converged properly to solve the problem of spiky loss functions. We also dropped the date since it was a unique identifier for each row in the dataset and serialized the year-week using the same method as in the classification one.\n",
        "\n",
        "##3. Network architecture. \n",
        "\n",
        "We used mean-square error loss for the regression problem since this is the most common error used for regression problems.\n",
        "\n",
        "We had hyperparameters (number of layers, number of neurons in each layer, dropout, the learning rate, momentum etc.) This time we also had the additional hyperparameters b (beta) and k. These were the hyperparameters used to create our rolling weighted-avg feature. We spent a long time tuning hyperparameters and plotting graphs to figure out whether our model was overfitting or underfitting and fixing the network architecture accordingly. Some of the graphs we plotted are shown above. They show the training and test error against the number of epochs.\n",
        "\n",
        "We used these graphs to diagnose overfitting and underfitting. In the case of overfitting (validation error >> training error), we increased dropout, made the neural network less expressive, used early stopping in training etc. In the case of underfitting (high training error), we made our neural network more expressive.\n",
        "\n",
        "\n",
        "\n"
      ]
    },
    {
      "cell_type": "markdown",
      "metadata": {
        "id": "5tqXGB1LYIVU"
      },
      "source": [
        "<h2>Part 4: Kaggle Submission</h2><p>\n",
        "You need to generate a prediction CSV using the following cell from your trained model and submit the direct output of your code to Kaggle. The CSV shall contain TWO columns. The first column should be named \"country_id\" and be a concatenation of the country and date in the first two columns of the test_no_label.csv. This is because for the Kaggle competition we need a unique identifier for every row. For instance, the first entry should be \"Belgium 9/7/2020\". The second column of the prediction csv should have the same name as the target metric (either \"next_week_increase_decrease\" or \"next_week_hospitalizations\") with your generated predictions. Your file should have 1144 total rows excluding the column names. The order should be the same as in the test_baseline/creative_no_label.csv. A sample predication file can be downloaded from Kaggle for each problem."
      ]
    },
    {
      "cell_type": "code",
      "metadata": {
        "id": "AUId_fwOYIVU"
      },
      "source": [
        "# baseline solution\n",
        "a = next(iter(test_baseline_loader))\n",
        "PATH_TO_SAVE = \"/content/drive/MyDrive/cs4780_project/preds\"\n",
        "def test_model_baseline(network, test_loader, filename):\n",
        "    \"\"\"\n",
        "    Return results and write them to the filename\n",
        "    :param: network (torch.nn.Module) neural network for baseline\n",
        "    :param: test_loader (torch.Dataset) loader for test set\n",
        "    :param: filename (str) filename to save results\n",
        "    \"\"\"\n",
        "    network.eval()\n",
        "    result = []\n",
        "    for batch in test_loader:\n",
        "        out = network(batch).detach().numpy().T\n",
        "        result += np.round(out).astype(int).tolist()[0]\n",
        "\n",
        "    final_df = (test_baseline_df['country'] + ' ' + test_baseline_df['date']).to_frame(name=\"country_id\")\n",
        "    final_df['next_week_increase_decrease'] = result\n",
        "  \n",
        "    final_df.to_csv(f\"{PATH_TO_SAVE}/{filename}.csv\", index=False)\n",
        "    return final_df\n",
        "\n",
        "final_df = test_model_baseline(network, test_baseline_loader, \"neural_nets_take_13\")"
      ],
      "execution_count": null,
      "outputs": []
    },
    {
      "cell_type": "code",
      "metadata": {
        "id": "Zu4WCxrupLOy"
      },
      "source": [
        "# creative solution\n",
        "PATH_TO_SAVE = \"/content/drive/MyDrive/cs4780_project/preds\"\n",
        "def test_model_creative(network, test_loader, filename):\n",
        "    \"\"\"\n",
        "    Return results and write them to the filename\n",
        "    :param: network (torch.nn.Module) neural network for baseline\n",
        "    :param: test_loader (torch.Dataset) loader for test set\n",
        "    :param: filename (str) filename to save results\n",
        "    \"\"\"\n",
        "    result = []\n",
        "    network.eval()\n",
        "    for batch in test_loader:\n",
        "        out = network(batch).detach().numpy().T\n",
        "        result +=np.round(out).astype(int).tolist()[0]\n",
        "\n",
        "    final_df = (test_baseline_df['country'] + ' ' + test_baseline_df['date']).to_frame(name=\"country_id\")\n",
        "    final_df['next_week_hospitalizations'] = result\n",
        "  \n",
        "    final_df.to_csv(f\"{PATH_TO_SAVE}/{filename}.csv\", index=False)\n",
        "    return final_df"
      ],
      "execution_count": null,
      "outputs": []
    },
    {
      "cell_type": "code",
      "metadata": {
        "id": "rmih74b0w85L"
      },
      "source": [
        "final_df = test_model_creative(net_2, test_creative_loader, \"expressive_deep_model\")"
      ],
      "execution_count": null,
      "outputs": []
    },
    {
      "cell_type": "markdown",
      "metadata": {
        "id": "XcAStaBTYIVU"
      },
      "source": [
        "<h2>Part 5: Resources and Literature Used</h2><p>"
      ]
    },
    {
      "cell_type": "markdown",
      "metadata": {
        "id": "31s-gLxsYIVV"
      },
      "source": [
        "We utilized PyTorch for the neural network, sci-kit learn for AdaBoost (and for other preprocessing functions). We lastly utilize pandas to readi n the data and to save our data."
      ]
    }
  ]
}